{
 "cells": [
  {
   "cell_type": "markdown",
   "id": "412d861b",
   "metadata": {},
   "source": [
    "# 1.2"
   ]
  },
  {
   "cell_type": "code",
   "execution_count": 1,
   "id": "c2a0a9b0",
   "metadata": {},
   "outputs": [
    {
     "name": "stdout",
     "output_type": "stream",
     "text": [
      "39.4 | <class 'float'> \n",
      " None | <class 'NoneType'> \n",
      " ('a', 5, 12.345, (2, 'b')) | <class 'tuple'> \n",
      " [['Антоновна Антонина', 34, 'ж'], ['Борисов Борис', 26, 'м']] | <class 'list'> \n",
      " {1, 'title', 2, 'content'} | <class 'set'>\n"
     ]
    }
   ],
   "source": [
    "x=+3+5.2*7\n",
    "y=None\n",
    "z='a',5,12.345,(2,'b')\n",
    "df=[['Антоновна Антонина', 34, 'ж'], ['Борисов Борис',26,'м']]\n",
    "A={1,'title',2,'content'}\n",
    "\n",
    "print(x,'|',type(x),'\\n', y, '|', type(y), '\\n', z, '|', type(z), '\\n', df, '|', type(df), '\\n', A, '|', type(A))"
   ]
  },
  {
   "cell_type": "markdown",
   "id": "0a6ead13",
   "metadata": {},
   "source": [
    "# 1.3"
   ]
  },
  {
   "cell_type": "code",
   "execution_count": 2,
   "id": "658b7116",
   "metadata": {},
   "outputs": [
    {
     "name": "stdout",
     "output_type": "stream",
     "text": [
      "True | <class 'bool'> \n",
      " {8, 1, 3, 7} | <class 'set'> \n",
      " {2, 4, 5, 10, 'apple'} | <class 'set'> \n",
      " set() | <class 'set'> \n",
      " ('Антонова Антонина', 34, 'ж') | <class 'tuple'> \n",
      " type | <class 'str'> \n",
      " [1, 'title', 2, 'content'] | <class 'list'>\n"
     ]
    }
   ],
   "source": [
    "X = 5>=2\n",
    "A = {1,3,7,8}\n",
    "B = {2,4,5,10,'apple'}\n",
    "C = A & B\n",
    "df= 'Антонова Антонина', 34, 'ж'\n",
    "Z = 'type'\n",
    "D = [1, 'title', 2, 'content']\n",
    "\n",
    "print(X,'|',type(X),'\\n', A, '|', type(A), '\\n', B, '|', type(B), '\\n', C, '|', type(C), '\\n', \n",
    "      df, '|', type(df), '\\n', Z, '|', type(Z), '\\n', D, '|', type(D))"
   ]
  },
  {
   "cell_type": "markdown",
   "id": "fb08af96",
   "metadata": {},
   "source": [
    "# 2.2"
   ]
  },
  {
   "cell_type": "code",
   "execution_count": 7,
   "id": "dc17331b",
   "metadata": {},
   "outputs": [
    {
     "name": "stdout",
     "output_type": "stream",
     "text": [
      "x-положительное\n"
     ]
    }
   ],
   "source": [
    "x=152\n",
    "if    x<0:\n",
    "    print('x-отрицательное')\n",
    "elif    x==0:\n",
    "    print('x=0')\n",
    "else:\n",
    "    print('x-положительное')"
   ]
  },
  {
   "cell_type": "markdown",
   "id": "d82c158c",
   "metadata": {},
   "source": [
    "# 2.3"
   ]
  },
  {
   "cell_type": "code",
   "execution_count": 17,
   "id": "745061c5",
   "metadata": {},
   "outputs": [
    {
     "name": "stdout",
     "output_type": "stream",
     "text": [
      "x принадлежит (-бесконечность; -5)\n"
     ]
    }
   ],
   "source": [
    "x=-8\n",
    "if x<-5:\n",
    "    print('x принадлежит (-бесконечность; -5)')\n",
    "elif -5<=x<=5:\n",
    "    print('x принадлежит [-5;5]')\n",
    "else:\n",
    "    print('x принадлежит (5; бесконечность)')"
   ]
  },
  {
   "cell_type": "markdown",
   "id": "3482715c",
   "metadata": {},
   "source": [
    "# 3.2.1"
   ]
  },
  {
   "cell_type": "code",
   "execution_count": 18,
   "id": "a7ee6a16",
   "metadata": {},
   "outputs": [
    {
     "name": "stdout",
     "output_type": "stream",
     "text": [
      "1\n",
      "4\n",
      "7\n",
      "10\n"
     ]
    }
   ],
   "source": [
    "x=1\n",
    "while x<=10:\n",
    "    print(x)\n",
    "    x+=3"
   ]
  },
  {
   "cell_type": "markdown",
   "id": "65ee9bb3",
   "metadata": {},
   "source": [
    "# 3.2.2"
   ]
  },
  {
   "cell_type": "code",
   "execution_count": 20,
   "id": "6564e862",
   "metadata": {},
   "outputs": [
    {
     "name": "stdout",
     "output_type": "stream",
     "text": [
      "луна\n",
      "солнце\n",
      "звезда\n"
     ]
    }
   ],
   "source": [
    "list = ['луна', 'солнце', 'звезда']\n",
    "for l in list:\n",
    "    print (l)"
   ]
  },
  {
   "cell_type": "markdown",
   "id": "4bc8a42a",
   "metadata": {},
   "source": [
    "# 3.2.3"
   ]
  },
  {
   "cell_type": "code",
   "execution_count": 2,
   "id": "b7451562",
   "metadata": {},
   "outputs": [
    {
     "name": "stdout",
     "output_type": "stream",
     "text": [
      "[1, 8, 15, 22, 29, 36, 43, 50, 57, 64, 71, 78, 85, 92, 99]\n"
     ]
    }
   ],
   "source": [
    "int = range(1, 100, 7)\n",
    "print(list(int))"
   ]
  },
  {
   "cell_type": "markdown",
   "id": "3e8e4133",
   "metadata": {},
   "source": [
    "# 3.2.4"
   ]
  },
  {
   "cell_type": "code",
   "execution_count": 33,
   "id": "4b3383a6",
   "metadata": {},
   "outputs": [
    {
     "name": "stdout",
     "output_type": "stream",
     "text": [
      "5\n",
      "30\n",
      "55\n",
      "80\n",
      "105\n"
     ]
    }
   ],
   "source": [
    "for i in range(5,106, 25):\n",
    "    print(i)"
   ]
  },
  {
   "cell_type": "markdown",
   "id": "7a259069",
   "metadata": {},
   "source": [
    "# 3.2.5"
   ]
  },
  {
   "cell_type": "code",
   "execution_count": 4,
   "id": "c69a297f",
   "metadata": {},
   "outputs": [
    {
     "name": "stdout",
     "output_type": "stream",
     "text": [
      "[2, 4, 6]\n",
      "[9, 8, 7, 6, 5, 4, 3, 2, 1]\n"
     ]
    }
   ],
   "source": [
    "a = [1, 2, 3, 4, 5, 6, 7, 8, 9]\n",
    "b = a[1:7:2]\n",
    "c = a[::-1]\n",
    "print(b)\n",
    "print(c)"
   ]
  },
  {
   "cell_type": "markdown",
   "id": "158c2db2",
   "metadata": {},
   "source": [
    "# 3.3.1"
   ]
  },
  {
   "cell_type": "code",
   "execution_count": 5,
   "id": "1482d13b",
   "metadata": {},
   "outputs": [
    {
     "name": "stdout",
     "output_type": "stream",
     "text": [
      "[10, 7, 4, 1]\n"
     ]
    }
   ],
   "source": [
    "a = [1, 4, 7, 10]\n",
    "b = a[::-1]\n",
    "print(b)"
   ]
  },
  {
   "cell_type": "markdown",
   "id": "77858341",
   "metadata": {},
   "source": [
    "# 3.3.2"
   ]
  },
  {
   "cell_type": "code",
   "execution_count": 12,
   "id": "83aac056",
   "metadata": {},
   "outputs": [
    {
     "name": "stdout",
     "output_type": "stream",
     "text": [
      "Список признаков человека:\n",
      "эмоции\n",
      "возможность мыслить\n",
      "способность к осуществлению свободного выбора\n",
      "принимать ответственность за поступки\n",
      "наличие моральных суждений\n"
     ]
    }
   ],
   "source": [
    "print('Список признаков человека:')\n",
    "aa = ['эмоции', 'возможность мыслить', 'способность к осуществлению свободного выбора', 'принимать ответственность за поступки', 'наличие моральных суждений']\n",
    "for a in aa:\n",
    "    print(a)"
   ]
  },
  {
   "cell_type": "markdown",
   "id": "5b5c3aef",
   "metadata": {},
   "source": [
    "# 3.3.3"
   ]
  },
  {
   "cell_type": "code",
   "execution_count": 14,
   "id": "6af9eaaa",
   "metadata": {},
   "outputs": [
    {
     "name": "stdout",
     "output_type": "stream",
     "text": [
      "[2, 3, 4, 5, 6, 7, 8, 9, 10, 11, 12, 13, 14, 15]\n"
     ]
    }
   ],
   "source": [
    "a = range(2, 16, 1)\n",
    "print(list(a))"
   ]
  },
  {
   "cell_type": "markdown",
   "id": "71e0cf4b",
   "metadata": {},
   "source": [
    "# 3.3.4"
   ]
  },
  {
   "cell_type": "code",
   "execution_count": 21,
   "id": "11a6c9ce",
   "metadata": {},
   "outputs": [
    {
     "name": "stdout",
     "output_type": "stream",
     "text": [
      "105\n",
      "80\n",
      "55\n",
      "30\n",
      "5\n"
     ]
    }
   ],
   "source": [
    "for i in reversed(range(5, 106, 25)):\n",
    "    print(i)"
   ]
  },
  {
   "cell_type": "markdown",
   "id": "3ffb91bd",
   "metadata": {},
   "source": [
    "# 3.3.5"
   ]
  },
  {
   "cell_type": "code",
   "execution_count": 33,
   "id": "6ffdb0dc",
   "metadata": {},
   "outputs": [
    {
     "name": "stdout",
     "output_type": "stream",
     "text": [
      "[0, 9, 2, 7, 4, 5, 6, 3, 8, 1]\n"
     ]
    }
   ],
   "source": [
    "x = [0,1,2,3,4,5,6,7,8,9]\n",
    "x[1::2] = reversed(x[1::2])\n",
    "print(x)"
   ]
  },
  {
   "cell_type": "markdown",
   "id": "84db1cc3",
   "metadata": {},
   "source": [
    "# 4.2.1"
   ]
  },
  {
   "cell_type": "code",
   "execution_count": 34,
   "id": "dd28da69",
   "metadata": {},
   "outputs": [
    {
     "name": "stdout",
     "output_type": "stream",
     "text": [
      "0.41078129050290885\n"
     ]
    }
   ],
   "source": [
    "import math as m\n",
    "print (m.sin (m.e))"
   ]
  },
  {
   "cell_type": "markdown",
   "id": "ca252e56",
   "metadata": {},
   "source": [
    "# 4.2.2"
   ]
  },
  {
   "cell_type": "code",
   "execution_count": 1,
   "id": "abd69924",
   "metadata": {},
   "outputs": [
    {
     "name": "stdout",
     "output_type": "stream",
     "text": [
      "73.50792907748662\n"
     ]
    },
    {
     "data": {
      "text/plain": "<Figure size 640x480 with 1 Axes>",
      "image/png": "[encoded data removed]"
     },
     "metadata": {},
     "output_type": "display_data"
    }
   ],
   "source": [
    "import numpy as np\n",
    "import matplotlib.pyplot as plt\n",
    "from scipy.integrate import simps\n",
    "from numpy import trapz\n",
    "x = np.arange(0.0, 10, 0.1)\n",
    "y = np.abs(np.sin(x*np.exp(np.cos(x))))\n",
    "plt.grid()\n",
    "plt.plot(x, y, c = \"r\")\n",
    "plt.fill_between(x, y)\n",
    "\n",
    "area = trapz(y)\n",
    "print (area)"
   ]
  },
  {
   "cell_type": "markdown",
   "id": "93efb3c5",
   "metadata": {},
   "source": [
    "# 4.2.3"
   ]
  },
  {
   "cell_type": "code",
   "execution_count": 132,
   "id": "71b36513",
   "metadata": {},
   "outputs": [
    {
     "data": {
      "image/png": "[encoded data removed]",
      "text/plain": [
       "<Figure size 720x504 with 1 Axes>"
      ]
     },
     "metadata": {},
     "output_type": "display_data"
    },
    {
     "data": {
      "text/plain": [
       "<matplotlib.collections.PathCollection at 0x15afd5a0a90>"
      ]
     },
     "execution_count": 132,
     "metadata": {},
     "output_type": "execute_result"
    },
    {
     "data": {
      "image/png": "[encoded data removed]",
      "text/plain": [
       "<Figure size 432x288 with 1 Axes>"
      ]
     },
     "metadata": {
      "needs_background": "light"
     },
     "output_type": "display_data"
    }
   ],
   "source": [
    "from matplotlib import pyplot as plt\n",
    "import numpy as np\n",
    "\n",
    "marks = ['Неуд', 'Удовл', 'Хор', 'Отл']\n",
    "\n",
    "data = [3, 7, 8, 4]\n",
    "fig = plt.figure(figsize=(10,7))\n",
    "plt.pie(data, labels = marks)\n",
    "plt.show()\n",
    "plt.grid()\n",
    "plt.scatter (marks,data)"
   ]
  },
  {
   "cell_type": "markdown",
   "id": "c3e73835",
   "metadata": {},
   "source": [
    "# 4.3.1"
   ]
  },
  {
   "cell_type": "code",
   "execution_count": 133,
   "id": "5a7df2aa",
   "metadata": {
    "scrolled": false
   },
   "outputs": [
    {
     "name": "stdout",
     "output_type": "stream",
     "text": [
      "Среднее:  0.44020916402529675\n",
      "Медиана:  0.41198860707811163\n"
     ]
    },
    {
     "data": {
      "text/plain": [
       "<matplotlib.collections.PathCollection at 0x15afd5f9fa0>"
      ]
     },
     "execution_count": 133,
     "metadata": {},
     "output_type": "execute_result"
    },
    {
     "data": {
      "image/png": "[encoded data removed]",
      "text/plain": [
       "<Figure size 432x288 with 1 Axes>"
      ]
     },
     "metadata": {
      "needs_background": "light"
     },
     "output_type": "display_data"
    }
   ],
   "source": [
    "import numpy as np\n",
    "from matplotlib import pyplot as plt\n",
    "import random\n",
    "\n",
    "x = [np.random.random(10)]\n",
    "data = range(1,11,1)\n",
    "\n",
    "print('Среднее: ', np.mean(x))\n",
    "print('Медиана: ', np.median(x))\n",
    "\n",
    "plt.grid()\n",
    "plt.scatter (x,data)"
   ]
  },
  {
   "cell_type": "markdown",
   "id": "689b4ed0",
   "metadata": {},
   "source": [
    "# 4.3.2"
   ]
  },
  {
   "cell_type": "code",
   "execution_count": 209,
   "id": "98b34784",
   "metadata": {},
   "outputs": [
    {
     "name": "stdout",
     "output_type": "stream",
     "text": [
      "Основной массив: \n",
      "[5.798917496411, 9.89559082992602, 4.194572274398421, 3.9811767763428825, 4.092729058690511, 5.938653149530014, 8.115700200778333, 138.24401824876855, 7.917984524440516, 7.3440502300859265]\n"
     ]
    },
    {
     "data": {
      "image/png": "[encoded data removed]",
      "text/plain": [
       "<Figure size 432x288 with 1 Axes>"
      ]
     },
     "metadata": {
      "needs_background": "light"
     },
     "output_type": "display_data"
    },
    {
     "name": "stdout",
     "output_type": "stream",
     "text": [
      "Срез первой половины: \n",
      "[5.798917496411, 9.89559082992602, 4.194572274398421, 3.9811767763428825, 4.092729058690511]\n"
     ]
    },
    {
     "data": {
      "text/plain": [
       "<matplotlib.collections.PathCollection at 0x15afde3aee0>"
      ]
     },
     "execution_count": 209,
     "metadata": {},
     "output_type": "execute_result"
    },
    {
     "data": {
      "image/png": "[encoded data removed]",
      "text/plain": [
       "<Figure size 432x288 with 1 Axes>"
      ]
     },
     "metadata": {
      "needs_background": "light"
     },
     "output_type": "display_data"
    }
   ],
   "source": [
    "import numpy as np\n",
    "import math\n",
    "import matplotlib.pyplot as plt\n",
    "from scipy.integrate import simps\n",
    "\n",
    "\n",
    "list1=[]\n",
    "for i in range(1,11, 1):\n",
    "    x = i\n",
    "    y = (math.sqrt(1+math.e**(math.sqrt(x))+math.cos(x**2)))/(abs(1-(math.sin(x))**3))+ math.log(abs(2*x))\n",
    "    list1.append(y)\n",
    "\n",
    "print('Основной массив: ', list1, sep = \"\\n\")\n",
    "plt.grid()\n",
    "plt.plot(list1)\n",
    "\n",
    "plt.show()\n",
    "\n",
    "n = list1 [0:5:1]\n",
    "print('Срез первой половины: ',n, sep = \"\\n\")\n",
    "v = range(1,6)\n",
    "plt.grid()\n",
    "plt.scatter(v,n)\n"
   ]
  },
  {
   "cell_type": "markdown",
   "id": "68d0f49e",
   "metadata": {},
   "source": [
    "# 4.3.3"
   ]
  },
  {
   "cell_type": "code",
   "execution_count": 2,
   "id": "b2c9c8e6",
   "metadata": {},
   "outputs": [
    {
     "name": "stdout",
     "output_type": "stream",
     "text": [
      "[1.0, 0.9578257245949411, 0.685207466380983, 0.2507309308493122, 0.5585463510378139, 0.539311336070782, 0.9699404276999106, 0.9341251747657782, 0.8357038830902177, 0.05790916200999536, 0.9177655163159779]\n"
     ]
    },
    {
     "data": {
      "text/plain": "<Figure size 640x480 with 1 Axes>",
      "image/png": "[encoded data removed]"
     },
     "metadata": {},
     "output_type": "display_data"
    },
    {
     "name": "stdout",
     "output_type": "stream",
     "text": [
      "6.748183214657723\n"
     ]
    }
   ],
   "source": [
    "import math\n",
    "import matplotlib.pyplot as plt\n",
    "from scipy.integrate import simps\n",
    "from numpy import trapz\n",
    "\n",
    "xx = [0, 1, 2, 3, 4, 5, 6, 7, 8, 9, 10]\n",
    "y = []\n",
    "\n",
    "for x in xx:\n",
    "    e = math.e ** (math.cos(x) + math.log(x + 1))\n",
    "    yx = abs(math.cos(x * e))\n",
    "    y.append(yx)\n",
    "\n",
    "print(y)\n",
    "\n",
    "plt.grid() #делает сетку\n",
    "plt.plot(xx, y, c = 'purple') #рисует график\n",
    "plt.fill_between(xx, y) #красит график\n",
    "plt.show() #выводит график\n",
    "\n",
    "print(trapz(y))\n",
    "\n"
   ]
  },
  {
   "cell_type": "markdown",
   "id": "3a07577d",
   "metadata": {},
   "source": [
    "# 4.3.4"
   ]
  },
  {
   "cell_type": "code",
   "execution_count": 8,
   "id": "65655787",
   "metadata": {},
   "outputs": [
    {
     "data": {
      "image/png": "[encoded data removed]",
      "text/plain": [
       "<Figure size 432x288 with 1 Axes>"
      ]
     },
     "metadata": {
      "needs_background": "light"
     },
     "output_type": "display_data"
    }
   ],
   "source": [
    "import matplotlib.pyplot as plt\n",
    "apple = [131.96, 121.26, 122.15, 131.46, 124.61, 136.96, 145.86, 151.83, 141.50, 149.80, 165.30, 177.57]\n",
    "mounth = [1, 2, 3, 4, 5, 6, 7, 8, 9, 10, 11, 12]\n",
    "microsoft = [231.96, 232.38, 235.77, 252.18, 249.68, 270.90, 284.91, 301.88, 281.92, 331.62, 330.59, 336.32]\n",
    "google = [91.79, 101.84, 103.43, 120.51, 120.58, 125.32, 135.22, 145.46, 133.27, 148.27, 142.45, 144.68]\n",
    "#mounth = [i for i in range(1, 13)]\n",
    "plt.plot(mounth, apple, c = 'g')\n",
    "plt.plot(mounth, microsoft)\n",
    "plt.plot(mounth, google, c = 'r')\n",
    "plt.show()\n",
    "\n"
   ]
  },
  {
   "cell_type": "markdown",
   "id": "ab84b81f",
   "metadata": {},
   "source": [
    "# 4.3.5"
   ]
  },
  {
   "cell_type": "code",
   "execution_count": 9,
   "id": "01a72436",
   "metadata": {},
   "outputs": [
    {
     "name": "stdout",
     "output_type": "stream",
     "text": [
      "Введите первое число: 2\n",
      "Введите второе число: 3\n",
      "Введите операцию (+, -, *, /, e, sin, cos или ^): +\n",
      "5\n"
     ]
    }
   ],
   "source": [
    "import math as m\n",
    "\n",
    "x = int(input('Введите первое число: '))\n",
    "y = int(input('Введите второе число: '))\n",
    "oper = input('Введите операцию (+, -, *, /, e, sin, cos или ^): ')\n",
    "#print(x, oper, y)\n",
    "\n",
    "if oper == '+':\n",
    "    print(x + y)\n",
    "elif oper == '-':\n",
    "    print(x - y)\n",
    "elif oper == '*':\n",
    "    print(x * y)\n",
    "elif oper == '/':\n",
    "    print(x / y)\n",
    "elif oper == '^':\n",
    "    print(x ** y)\n",
    "elif oper == 'e':\n",
    "    print(m.e ** (x + y))\n",
    "elif oper == 'sin':\n",
    "    print(m.sin(x + y))\n",
    "elif oper == 'cos':\n",
    "    print(m.cos(x + y))\n",
    "else:\n",
    "    print('ОШИБКА')\n",
    "\n"
   ]
  }
 ],
 "metadata": {
  "kernelspec": {
   "display_name": "Python 3 (ipykernel)",
   "language": "python",
   "name": "python3"
  },
  "language_info": {
   "codemirror_mode": {
    "name": "ipython",
    "version": 3
   },
   "file_extension": ".py",
   "mimetype": "text/x-python",
   "name": "python",
   "nbconvert_exporter": "python",
   "pygments_lexer": "ipython3",
   "version": "3.9.13"
  }
 },
 "nbformat": 4,
 "nbformat_minor": 5
}
