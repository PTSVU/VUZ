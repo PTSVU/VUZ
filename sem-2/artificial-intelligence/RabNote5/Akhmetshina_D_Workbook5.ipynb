{
 "cells": [
  {
   "cell_type": "code",
   "execution_count": 1,
   "id": "813f7a38",
   "metadata": {},
   "outputs": [
    {
     "name": "stdout",
     "output_type": "stream",
     "text": [
      "Обезьяна\n"
     ]
    }
   ],
   "source": [
    "class TAnimal:\n",
    "    name = \"\"\n",
    "    def __init__(self, name):\n",
    "        self.name = name\n",
    "    def say(self):\n",
    "        print(self.name)\n",
    "        \n",
    "Animal = TAnimal(\"Обезьяна\")\n",
    "Animal.say()"
   ]
  },
  {
   "cell_type": "code",
   "execution_count": 2,
   "id": "86dac882",
   "metadata": {},
   "outputs": [
    {
     "name": "stdout",
     "output_type": "stream",
     "text": [
      "Кошка\n",
      "Мяу!\n"
     ]
    }
   ],
   "source": [
    "class TCat(TAnimal):\n",
    "    def __init__(self):\n",
    "        super().__init__(\"Кошка\")\n",
    "    def may(self):\n",
    "        print(\"Мяу!\")\n",
    "        \n",
    "Cat = TCat()\n",
    "Cat.say()\n",
    "Cat.may()"
   ]
  },
  {
   "cell_type": "code",
   "execution_count": 3,
   "id": "319dc55c",
   "metadata": {},
   "outputs": [
    {
     "name": "stdout",
     "output_type": "stream",
     "text": [
      "Enter x > 1\n",
      "Enter y > 2\n",
      "Result = 3\n"
     ]
    }
   ],
   "source": [
    "class TDo:\n",
    "    def Operation(self, x, y):\n",
    "        return x+y\n",
    "    def Run(self):\n",
    "        x = int(input(\"Enter x > \"))\n",
    "        y = int(input(\"Enter y > \"))\n",
    "        z = self.Operation(x, y)\n",
    "        print(\"Result = \" + z.__str__())\n",
    "        \n",
    "Do = TDo()\n",
    "Do.Run()"
   ]
  },
  {
   "cell_type": "code",
   "execution_count": 4,
   "id": "f661a979",
   "metadata": {},
   "outputs": [
    {
     "name": "stdout",
     "output_type": "stream",
     "text": [
      "Enter x > 3\n",
      "Enter y > 2\n",
      "Result = 6\n"
     ]
    }
   ],
   "source": [
    "class TDo2(TDo):\n",
    "    def Operation(self, x, y):\n",
    "        return x*y\n",
    "    \n",
    "Do2 = TDo2()\n",
    "Do2.Run()"
   ]
  },
  {
   "cell_type": "code",
   "execution_count": 5,
   "id": "6c15153b",
   "metadata": {},
   "outputs": [
    {
     "name": "stdout",
     "output_type": "stream",
     "text": [
      "['inheritance']\n",
      "['inheritance', 'class']\n"
     ]
    }
   ],
   "source": [
    "class Data:\n",
    "    def __init__(self, *info):\n",
    "        self.info = list(info)\n",
    "    def __getitem__(self, i):\n",
    "        return self.info[i]\n",
    "    \n",
    "class Teacher:\n",
    "    def teach(self, info, *pupil):\n",
    "        for i in pupil:\n",
    "            i.take(info)\n",
    "            \n",
    "class Pupil:\n",
    "    def __init__(self):\n",
    "        self.knowledge = []\n",
    "    def take(self, info):\n",
    "        self.knowledge.append(info)\n",
    "        \n",
    "lesson = Data('class', 'object', 'inheritance', 'polymorphism', 'encapsulation')\n",
    "marIvanna = Teacher()\n",
    "vasy = Pupil()\n",
    "pety = Pupil()\n",
    "marIvanna.teach(lesson[2], vasy, pety)\n",
    "marIvanna.teach(lesson[0], pety)\n",
    "print(vasy.knowledge)\n",
    "print(pety.knowledge)"
   ]
  },
  {
   "cell_type": "code",
   "execution_count": 6,
   "id": "a7f98c9d",
   "metadata": {},
   "outputs": [
    {
     "name": "stdout",
     "output_type": "stream",
     "text": [
      "Enter 1 to attack. Enter 2 to stop program:1\n",
      "Warrior1  has attacked\n",
      "80  left\n",
      "Enter 1 to let some warrior attack: 1\n",
      "Warrior1  has attacked\n",
      "60  left\n",
      "Enter 1 to let some warrior attack: 1\n",
      "Warrior2  has attacked\n",
      "80  left\n",
      "Enter 1 to let some warrior attack: 1\n",
      "Warrior2  has attacked\n",
      "60  left\n",
      "Enter 1 to let some warrior attack: 1\n",
      "Warrior1  has attacked\n",
      "40  left\n",
      "Enter 1 to let some warrior attack: 1\n",
      "Warrior2  has attacked\n",
      "40  left\n",
      "Enter 1 to let some warrior attack: 1\n",
      "Warrior2  has attacked\n",
      "20  left\n",
      "Enter 1 to let some warrior attack: 1\n",
      "Warrior2  has attacked\n",
      "0  left\n",
      "Warrior2  has won\n",
      "Enter 1 to let some warrior attack: 1\n",
      "Warrior2  has attacked\n",
      "0  left\n",
      "Warrior2  has won\n",
      "Enter 1 to let some warrior attack: 2\n"
     ]
    }
   ],
   "source": [
    "import random\n",
    "class Warrior:\n",
    "    def __init__(self, health):\n",
    "        self.health = health\n",
    "        \n",
    "    def hit(self, target, target1):\n",
    "        if target.health > 0:\n",
    "            target.health -= 20\n",
    "        if target1 == warrior1:\n",
    "            target1 = \"Warrior1\"\n",
    "        if target1 == warrior2:\n",
    "            target1 = \"Warrior2\"\n",
    "        print(target1, \" has attacked\")\n",
    "        print(target.health, \" left\")\n",
    "        if target.health == 0:\n",
    "            print(target1, \" has won\")\n",
    "            \n",
    "warrior1 = Warrior(100)\n",
    "warrior2 = Warrior(100)\n",
    "q = int(input(\"Enter 1 to attack. Enter 2 to stop program:\"))\n",
    "\n",
    "while q != 2:\n",
    "    if q == 1:\n",
    "        j = random.randint(1, 3)\n",
    "        if j % 2 == 0:\n",
    "            warrior1.hit(warrior2, warrior1)\n",
    "        else:\n",
    "            warrior2.hit(warrior1, warrior2)\n",
    "        q = int(input(\"Enter 1 to let some warrior attack: \"))\n",
    "    else:\n",
    "        print(\"Wrong input.\")\n",
    "        break;\n"
   ]
  },
  {
   "cell_type": "code",
   "execution_count": 7,
   "id": "e31a8caa",
   "metadata": {},
   "outputs": [
    {
     "name": "stdout",
     "output_type": "stream",
     "text": [
      "5/6\n",
      "1/6\n",
      "1/6\n",
      "1/6\n",
      "3/2\n",
      "13/2\n"
     ]
    }
   ],
   "source": [
    "class Rational:\n",
    "    \n",
    "    @staticmethod\n",
    "    def gcd(a, b):\n",
    "        while(b != 0):\n",
    "            (a, b) = (b, a%b)\n",
    "        return a\n",
    "    \n",
    "    @staticmethod\n",
    "    def sgn(x):\n",
    "        if x > 0:\n",
    "            return 1\n",
    "        elif x < 0:\n",
    "            return -1\n",
    "        else:\n",
    "            return 0\n",
    "        \n",
    "    def __init__(self, n, d):\n",
    "        if n == 0:\n",
    "            self.num = 0\n",
    "            self.den = 1\n",
    "        else:\n",
    "            z = self.sgn(n)*self.sgn(d)\n",
    "            n = abs(n)\n",
    "            d = abs(d)\n",
    "            k = self.gcd(n, d)\n",
    "            self.num = z*n//k\n",
    "            self.den = d//k\n",
    "            \n",
    "    def __str__(self):\n",
    "        if self.num == 0:\n",
    "            return \"0\"\n",
    "        else:\n",
    "            return str(self.num)+\"/\"+str(self.den)\n",
    "        \n",
    "    def __add__(self, o):\n",
    "        n1 = self.num\n",
    "        d1 = self.den\n",
    "        if type(o) == int:\n",
    "            n2 = o\n",
    "            d2 = 1\n",
    "        else:\n",
    "            n2 = o.num\n",
    "            d2 = o.den\n",
    "        n = n1*d2+n2*d1\n",
    "        d = d1*d2\n",
    "        return Rational(n, d)\n",
    "    \n",
    "    def __radd__(self, o):\n",
    "        n1 = self.num\n",
    "        d1 = self.den\n",
    "        if type(o) == int:\n",
    "            n2 = o\n",
    "            d2 = 1\n",
    "        else:\n",
    "            n2 = o.num\n",
    "            d2 = o.den\n",
    "        n = n1*d2+n2*d1\n",
    "        d = d1*d2\n",
    "        return Rational(n, d)\n",
    "    \n",
    "    def __sub__(self, o):\n",
    "        n1 = self.num\n",
    "        d1 = self.den\n",
    "        n2 = o.num\n",
    "        d2 = o.den\n",
    "        n = n1*d2-n2*d1\n",
    "        d = d1*d2\n",
    "        return Rational(n, d)\n",
    "    \n",
    "    def __mul__(self, o):\n",
    "        n1 = self.num\n",
    "        d1 = self.den\n",
    "        n2 = o.num\n",
    "        d2 = o.den\n",
    "        n = n1*n2\n",
    "        d = d1*d2\n",
    "        return Rational(n, d)\n",
    "    \n",
    "    def __floordiv__(self, o):\n",
    "        n1 = self.num\n",
    "        d1 = self.den\n",
    "        n2 = o.num\n",
    "        d2 = o.den\n",
    "        n = n1*d2\n",
    "        d = d1*n2\n",
    "        return Rational(n, d)\n",
    "    \n",
    "d1 = Rational(1, 2)\n",
    "d2 = Rational(1, 3)\n",
    "d3 = d1+d2\n",
    "print(d3)\n",
    "d4 = d1-d2\n",
    "print(d4)\n",
    "d5 = d1*d2\n",
    "print(d5)\n",
    "d6 = d1*d2\n",
    "print(d6)\n",
    "d7 = d1//d2\n",
    "print(d7)\n",
    "d8 = 6+d1\n",
    "print(d8)"
   ]
  },
  {
   "cell_type": "code",
   "execution_count": 8,
   "id": "81499ec3",
   "metadata": {},
   "outputs": [
    {
     "name": "stdout",
     "output_type": "stream",
     "text": [
      "0.28366218546322625\n",
      "0.9092974268256817\n",
      "1.5574077246549023\n",
      "1.5707963267948966\n",
      "0.0\n",
      "-0.7853981633974483\n",
      "0.08726646259971647\n"
     ]
    }
   ],
   "source": [
    "#Задание 1\n",
    "import math\n",
    "\n",
    "class Calculator():\n",
    "    def cos(self, degree):\n",
    "        return math.cos(degree)\n",
    "    \n",
    "    def sin(self, degree):\n",
    "        return math.sin(degree)\n",
    "    \n",
    "    def tan(self, degree):\n",
    "        return math.tan(degree)\n",
    "    \n",
    "    def asin(self, degree):\n",
    "        return math.asin(degree)\n",
    "    \n",
    "    def acos(self, degree):\n",
    "        return math.acos(degree)\n",
    "    \n",
    "    def atan(self, degree):\n",
    "        return math.atan(degree)\n",
    "    \n",
    "    def toRadians(self, degree):\n",
    "        return math.radians(degree)\n",
    "    \n",
    "calculator = Calculator()\n",
    "print(calculator.cos(5))\n",
    "print(calculator.sin(2))\n",
    "print(calculator.tan(1))\n",
    "print(calculator.asin(1))\n",
    "print(calculator.acos(1))\n",
    "print(calculator.atan(-1))\n",
    "print(calculator.toRadians(5))"
   ]
  },
  {
   "cell_type": "code",
   "execution_count": 9,
   "id": "af5947cd",
   "metadata": {},
   "outputs": [
    {
     "name": "stdout",
     "output_type": "stream",
     "text": [
      "b\n",
      "e\n"
     ]
    }
   ],
   "source": [
    "T = [[\"a\", \"b\"], [\"c\"], [\"d\", [\"e\", \"f\"]]]\n",
    "print(T[0][1])\n",
    "print(T[2][1][0])"
   ]
  },
  {
   "cell_type": "code",
   "execution_count": 10,
   "id": "26702223",
   "metadata": {},
   "outputs": [
    {
     "data": {
      "text/plain": [
       "'c'"
      ]
     },
     "execution_count": 10,
     "metadata": {},
     "output_type": "execute_result"
    }
   ],
   "source": [
    "class Tree:\n",
    "    def __init__(self, left, right):\n",
    "        self.left = left\n",
    "        self.right = right\n",
    "        \n",
    "t = Tree(Tree(\"a\", \"b\"), Tree(\"c\", \"d\"))\n",
    "t.right.left"
   ]
  },
  {
   "cell_type": "code",
   "execution_count": 11,
   "id": "2de374bc",
   "metadata": {},
   "outputs": [
    {
     "data": {
      "text/plain": [
       "'c'"
      ]
     },
     "execution_count": 11,
     "metadata": {},
     "output_type": "execute_result"
    }
   ],
   "source": [
    "class Tree:\n",
    "    def __init__(self, kids, next=None):\n",
    "        self.kids = self.val = kids\n",
    "        self.next = next\n",
    "        \n",
    "t = Tree(Tree(\"a\", Tree(\"b\", Tree(\"c\", Tree(\"d\")))))\n",
    "t.kids.next.next.val"
   ]
  },
  {
   "cell_type": "code",
   "execution_count": 12,
   "id": "50f6de73",
   "metadata": {},
   "outputs": [
    {
     "name": "stdout",
     "output_type": "stream",
     "text": [
      "['a', ['b', ['d'], ['e']], ['c', ['f']]]\n",
      "['b', ['d'], ['e']]\n",
      "['c', ['f']]\n"
     ]
    }
   ],
   "source": [
    "T = ['a', ['b', ['d'], ['e']], ['c', ['f']]]\n",
    "print(T)\n",
    "print(T[1])\n",
    "print(T[2])"
   ]
  },
  {
   "cell_type": "code",
   "execution_count": 13,
   "id": "b67d9221",
   "metadata": {},
   "outputs": [
    {
     "name": "stdout",
     "output_type": "stream",
     "text": [
      "3\n",
      "2\n",
      "10\n",
      "5\n",
      "6\n"
     ]
    }
   ],
   "source": [
    "#Задание 2\n",
    "class Tree:\n",
    "    def __init__(self, data):\n",
    "        self.left = None\n",
    "        self.right = None\n",
    "        self.data = data\n",
    "            \n",
    "    def PrintTree(self):\n",
    "        print(self.data)\n",
    "        \n",
    "def insert(tree, val):\n",
    "    if(val < tree.data):\n",
    "        if(tree.left):\n",
    "            insert(tree.left, val)\n",
    "        else:\n",
    "            tree.left = Tree(val)\n",
    "    else:\n",
    "        if(tree.right):\n",
    "            insert(tree.right, val)\n",
    "        else:\n",
    "            tree.right = Tree(val)\n",
    "        \n",
    "def printTree(tree):\n",
    "    tree.PrintTree()\n",
    "    if(tree.left):\n",
    "        printTree(tree.left)\n",
    "    if(tree.right):\n",
    "        printTree(tree.right)\n",
    "        \n",
    "        \n",
    "root = Tree(3)\n",
    "insert(root, 2)\n",
    "insert(root, 10)\n",
    "insert(root, 5)\n",
    "insert(root, 6)\n",
    "\n",
    "printTree(root)\n",
    "\n"
   ]
  },
  {
   "cell_type": "code",
   "execution_count": 14,
   "id": "65901b3d",
   "metadata": {},
   "outputs": [
    {
     "data": {
      "text/html": [
       "<div>\n",
       "<style scoped>\n",
       "    .dataframe tbody tr th:only-of-type {\n",
       "        vertical-align: middle;\n",
       "    }\n",
       "\n",
       "    .dataframe tbody tr th {\n",
       "        vertical-align: top;\n",
       "    }\n",
       "\n",
       "    .dataframe thead th {\n",
       "        text-align: right;\n",
       "    }\n",
       "</style>\n",
       "<table border=\"1\" class=\"dataframe\">\n",
       "  <thead>\n",
       "    <tr style=\"text-align: right;\">\n",
       "      <th></th>\n",
       "      <th>sepal_length_cm</th>\n",
       "      <th>sepal_width_cm</th>\n",
       "      <th>petal_length_cm</th>\n",
       "      <th>petal_width_cm</th>\n",
       "      <th>species</th>\n",
       "    </tr>\n",
       "  </thead>\n",
       "  <tbody>\n",
       "    <tr>\n",
       "      <th>0</th>\n",
       "      <td>5.1</td>\n",
       "      <td>3.5</td>\n",
       "      <td>1.4</td>\n",
       "      <td>0.2</td>\n",
       "      <td>setosa</td>\n",
       "    </tr>\n",
       "    <tr>\n",
       "      <th>1</th>\n",
       "      <td>4.9</td>\n",
       "      <td>3.0</td>\n",
       "      <td>1.4</td>\n",
       "      <td>0.2</td>\n",
       "      <td>setosa</td>\n",
       "    </tr>\n",
       "    <tr>\n",
       "      <th>2</th>\n",
       "      <td>4.7</td>\n",
       "      <td>3.2</td>\n",
       "      <td>1.3</td>\n",
       "      <td>0.2</td>\n",
       "      <td>setosa</td>\n",
       "    </tr>\n",
       "    <tr>\n",
       "      <th>3</th>\n",
       "      <td>4.6</td>\n",
       "      <td>3.1</td>\n",
       "      <td>1.5</td>\n",
       "      <td>0.2</td>\n",
       "      <td>setosa</td>\n",
       "    </tr>\n",
       "    <tr>\n",
       "      <th>4</th>\n",
       "      <td>5.0</td>\n",
       "      <td>3.6</td>\n",
       "      <td>1.4</td>\n",
       "      <td>0.2</td>\n",
       "      <td>setosa</td>\n",
       "    </tr>\n",
       "    <tr>\n",
       "      <th>...</th>\n",
       "      <td>...</td>\n",
       "      <td>...</td>\n",
       "      <td>...</td>\n",
       "      <td>...</td>\n",
       "      <td>...</td>\n",
       "    </tr>\n",
       "    <tr>\n",
       "      <th>145</th>\n",
       "      <td>6.7</td>\n",
       "      <td>3.0</td>\n",
       "      <td>5.2</td>\n",
       "      <td>2.3</td>\n",
       "      <td>virginica</td>\n",
       "    </tr>\n",
       "    <tr>\n",
       "      <th>146</th>\n",
       "      <td>6.3</td>\n",
       "      <td>2.5</td>\n",
       "      <td>5.0</td>\n",
       "      <td>1.9</td>\n",
       "      <td>virginica</td>\n",
       "    </tr>\n",
       "    <tr>\n",
       "      <th>147</th>\n",
       "      <td>6.5</td>\n",
       "      <td>3.0</td>\n",
       "      <td>5.2</td>\n",
       "      <td>2.0</td>\n",
       "      <td>virginica</td>\n",
       "    </tr>\n",
       "    <tr>\n",
       "      <th>148</th>\n",
       "      <td>6.2</td>\n",
       "      <td>3.4</td>\n",
       "      <td>5.4</td>\n",
       "      <td>2.3</td>\n",
       "      <td>virginica</td>\n",
       "    </tr>\n",
       "    <tr>\n",
       "      <th>149</th>\n",
       "      <td>5.9</td>\n",
       "      <td>3.0</td>\n",
       "      <td>5.1</td>\n",
       "      <td>1.8</td>\n",
       "      <td>virginica</td>\n",
       "    </tr>\n",
       "  </tbody>\n",
       "</table>\n",
       "<p>150 rows × 5 columns</p>\n",
       "</div>"
      ],
      "text/plain": [
       "     sepal_length_cm  sepal_width_cm  petal_length_cm  petal_width_cm  \\\n",
       "0                5.1             3.5              1.4             0.2   \n",
       "1                4.9             3.0              1.4             0.2   \n",
       "2                4.7             3.2              1.3             0.2   \n",
       "3                4.6             3.1              1.5             0.2   \n",
       "4                5.0             3.6              1.4             0.2   \n",
       "..               ...             ...              ...             ...   \n",
       "145              6.7             3.0              5.2             2.3   \n",
       "146              6.3             2.5              5.0             1.9   \n",
       "147              6.5             3.0              5.2             2.0   \n",
       "148              6.2             3.4              5.4             2.3   \n",
       "149              5.9             3.0              5.1             1.8   \n",
       "\n",
       "       species  \n",
       "0       setosa  \n",
       "1       setosa  \n",
       "2       setosa  \n",
       "3       setosa  \n",
       "4       setosa  \n",
       "..         ...  \n",
       "145  virginica  \n",
       "146  virginica  \n",
       "147  virginica  \n",
       "148  virginica  \n",
       "149  virginica  \n",
       "\n",
       "[150 rows x 5 columns]"
      ]
     },
     "execution_count": 14,
     "metadata": {},
     "output_type": "execute_result"
    }
   ],
   "source": [
    "import pandas as pd\n",
    "import numpy as np\n",
    "import seaborn as sns\n",
    "import matplotlib.pyplot as plt\n",
    "\n",
    "dataset = pd.read_csv('https://raw.githubusercontent.com/akmand/datasets/main/iris.csv')\n",
    "dataset"
   ]
  },
  {
   "cell_type": "code",
   "execution_count": 15,
   "id": "be89b780",
   "metadata": {},
   "outputs": [
    {
     "name": "stdout",
     "output_type": "stream",
     "text": [
      "(150, 5)\n"
     ]
    }
   ],
   "source": [
    "print(dataset.shape)"
   ]
  },
  {
   "cell_type": "code",
   "execution_count": 16,
   "id": "e7f5efa7",
   "metadata": {},
   "outputs": [
    {
     "name": "stdout",
     "output_type": "stream",
     "text": [
      "(120, 4) (30, 4) (120,) (30,)\n"
     ]
    }
   ],
   "source": [
    "from sklearn.model_selection import train_test_split\n",
    "\n",
    "X_train, X_test, y_train, y_test = train_test_split(\n",
    "    dataset.iloc[:, :-1],\n",
    "    dataset.iloc[:, -1],\n",
    "    test_size = 0.20\n",
    ")\n",
    "\n",
    "print(X_train.shape, X_test.shape, y_train.shape, y_test.shape)"
   ]
  },
  {
   "cell_type": "code",
   "execution_count": 17,
   "id": "cbf05aec",
   "metadata": {},
   "outputs": [
    {
     "data": {
      "text/html": [
       "<div>\n",
       "<style scoped>\n",
       "    .dataframe tbody tr th:only-of-type {\n",
       "        vertical-align: middle;\n",
       "    }\n",
       "\n",
       "    .dataframe tbody tr th {\n",
       "        vertical-align: top;\n",
       "    }\n",
       "\n",
       "    .dataframe thead th {\n",
       "        text-align: right;\n",
       "    }\n",
       "</style>\n",
       "<table border=\"1\" class=\"dataframe\">\n",
       "  <thead>\n",
       "    <tr style=\"text-align: right;\">\n",
       "      <th></th>\n",
       "      <th>sepal_length_cm</th>\n",
       "      <th>sepal_width_cm</th>\n",
       "      <th>petal_length_cm</th>\n",
       "      <th>petal_width_cm</th>\n",
       "    </tr>\n",
       "  </thead>\n",
       "  <tbody>\n",
       "    <tr>\n",
       "      <th>80</th>\n",
       "      <td>5.5</td>\n",
       "      <td>2.4</td>\n",
       "      <td>3.8</td>\n",
       "      <td>1.1</td>\n",
       "    </tr>\n",
       "    <tr>\n",
       "      <th>118</th>\n",
       "      <td>7.7</td>\n",
       "      <td>2.6</td>\n",
       "      <td>6.9</td>\n",
       "      <td>2.3</td>\n",
       "    </tr>\n",
       "    <tr>\n",
       "      <th>105</th>\n",
       "      <td>7.6</td>\n",
       "      <td>3.0</td>\n",
       "      <td>6.6</td>\n",
       "      <td>2.1</td>\n",
       "    </tr>\n",
       "    <tr>\n",
       "      <th>7</th>\n",
       "      <td>5.0</td>\n",
       "      <td>3.4</td>\n",
       "      <td>1.5</td>\n",
       "      <td>0.2</td>\n",
       "    </tr>\n",
       "    <tr>\n",
       "      <th>85</th>\n",
       "      <td>6.0</td>\n",
       "      <td>3.4</td>\n",
       "      <td>4.5</td>\n",
       "      <td>1.6</td>\n",
       "    </tr>\n",
       "  </tbody>\n",
       "</table>\n",
       "</div>"
      ],
      "text/plain": [
       "     sepal_length_cm  sepal_width_cm  petal_length_cm  petal_width_cm\n",
       "80               5.5             2.4              3.8             1.1\n",
       "118              7.7             2.6              6.9             2.3\n",
       "105              7.6             3.0              6.6             2.1\n",
       "7                5.0             3.4              1.5             0.2\n",
       "85               6.0             3.4              4.5             1.6"
      ]
     },
     "execution_count": 17,
     "metadata": {},
     "output_type": "execute_result"
    }
   ],
   "source": [
    "X_train.head()"
   ]
  },
  {
   "cell_type": "code",
   "execution_count": 18,
   "id": "5585f7bc",
   "metadata": {},
   "outputs": [
    {
     "data": {
      "text/plain": [
       "80     versicolor\n",
       "118     virginica\n",
       "105     virginica\n",
       "7          setosa\n",
       "85     versicolor\n",
       "Name: species, dtype: object"
      ]
     },
     "execution_count": 18,
     "metadata": {},
     "output_type": "execute_result"
    }
   ],
   "source": [
    "y_train.head()"
   ]
  },
  {
   "cell_type": "code",
   "execution_count": 19,
   "id": "d9ac5532",
   "metadata": {},
   "outputs": [
    {
     "data": {
      "text/plain": [
       "DecisionTreeClassifier()"
      ]
     },
     "execution_count": 19,
     "metadata": {},
     "output_type": "execute_result"
    }
   ],
   "source": [
    "from sklearn.tree import DecisionTreeClassifier\n",
    "classifier = DecisionTreeClassifier()\n",
    "classifier.fit(X_train, y_train)"
   ]
  },
  {
   "cell_type": "code",
   "execution_count": 20,
   "id": "c50bd288",
   "metadata": {},
   "outputs": [
    {
     "data": {
      "text/plain": [
       "[Text(167.4, 199.32, 'X[2] <= 2.45\\ngini = 0.665\\nsamples = 120\\nvalue = [44, 39, 37]'),\n",
       " Text(141.64615384615385, 163.07999999999998, 'gini = 0.0\\nsamples = 44\\nvalue = [44, 0, 0]'),\n",
       " Text(193.15384615384616, 163.07999999999998, 'X[3] <= 1.75\\ngini = 0.5\\nsamples = 76\\nvalue = [0, 39, 37]'),\n",
       " Text(103.01538461538462, 126.83999999999999, 'X[2] <= 4.95\\ngini = 0.206\\nsamples = 43\\nvalue = [0, 38, 5]'),\n",
       " Text(51.50769230769231, 90.6, 'X[3] <= 1.65\\ngini = 0.053\\nsamples = 37\\nvalue = [0, 36, 1]'),\n",
       " Text(25.753846153846155, 54.359999999999985, 'gini = 0.0\\nsamples = 36\\nvalue = [0, 36, 0]'),\n",
       " Text(77.26153846153846, 54.359999999999985, 'gini = 0.0\\nsamples = 1\\nvalue = [0, 0, 1]'),\n",
       " Text(154.52307692307693, 90.6, 'X[3] <= 1.55\\ngini = 0.444\\nsamples = 6\\nvalue = [0, 2, 4]'),\n",
       " Text(128.76923076923077, 54.359999999999985, 'gini = 0.0\\nsamples = 3\\nvalue = [0, 0, 3]'),\n",
       " Text(180.27692307692308, 54.359999999999985, 'X[2] <= 5.45\\ngini = 0.444\\nsamples = 3\\nvalue = [0, 2, 1]'),\n",
       " Text(154.52307692307693, 18.119999999999976, 'gini = 0.0\\nsamples = 2\\nvalue = [0, 2, 0]'),\n",
       " Text(206.03076923076924, 18.119999999999976, 'gini = 0.0\\nsamples = 1\\nvalue = [0, 0, 1]'),\n",
       " Text(283.2923076923077, 126.83999999999999, 'X[2] <= 4.85\\ngini = 0.059\\nsamples = 33\\nvalue = [0, 1, 32]'),\n",
       " Text(257.53846153846155, 90.6, 'X[0] <= 5.95\\ngini = 0.444\\nsamples = 3\\nvalue = [0, 1, 2]'),\n",
       " Text(231.7846153846154, 54.359999999999985, 'gini = 0.0\\nsamples = 1\\nvalue = [0, 1, 0]'),\n",
       " Text(283.2923076923077, 54.359999999999985, 'gini = 0.0\\nsamples = 2\\nvalue = [0, 0, 2]'),\n",
       " Text(309.04615384615386, 90.6, 'gini = 0.0\\nsamples = 30\\nvalue = [0, 0, 30]')]"
      ]
     },
     "execution_count": 20,
     "metadata": {},
     "output_type": "execute_result"
    },
    {
     "data": {
      "image/png": "[encoded data removed]",
      "text/plain": [
       "<Figure size 432x288 with 1 Axes>"
      ]
     },
     "metadata": {
      "needs_background": "light"
     },
     "output_type": "display_data"
    }
   ],
   "source": [
    "from sklearn import tree\n",
    "tree.plot_tree(classifier)"
   ]
  },
  {
   "cell_type": "code",
   "execution_count": 21,
   "id": "236cd093",
   "metadata": {},
   "outputs": [
    {
     "data": {
      "text/plain": [
       "array(['virginica', 'versicolor', 'virginica', 'virginica', 'versicolor',\n",
       "       'virginica', 'versicolor', 'virginica', 'versicolor', 'setosa',\n",
       "       'setosa', 'setosa', 'virginica', 'virginica', 'versicolor',\n",
       "       'virginica', 'virginica', 'virginica', 'versicolor', 'virginica',\n",
       "       'setosa', 'virginica', 'versicolor', 'versicolor', 'versicolor',\n",
       "       'setosa', 'virginica', 'setosa', 'versicolor', 'versicolor'],\n",
       "      dtype=object)"
      ]
     },
     "execution_count": 21,
     "metadata": {},
     "output_type": "execute_result"
    }
   ],
   "source": [
    "y_pred = classifier.predict(X_test)\n",
    "y_pred"
   ]
  },
  {
   "cell_type": "code",
   "execution_count": 22,
   "id": "abd1fef1",
   "metadata": {},
   "outputs": [
    {
     "name": "stdout",
     "output_type": "stream",
     "text": [
      "[[ 6  0  0]\n",
      " [ 0 11  0]\n",
      " [ 0  0 13]]\n",
      "              precision    recall  f1-score   support\n",
      "\n",
      "      setosa       1.00      1.00      1.00         6\n",
      "  versicolor       1.00      1.00      1.00        11\n",
      "   virginica       1.00      1.00      1.00        13\n",
      "\n",
      "    accuracy                           1.00        30\n",
      "   macro avg       1.00      1.00      1.00        30\n",
      "weighted avg       1.00      1.00      1.00        30\n",
      "\n"
     ]
    }
   ],
   "source": [
    "from sklearn.metrics import classification_report, confusion_matrix\n",
    "print(confusion_matrix(y_test, y_pred))\n",
    "print(classification_report(y_test, y_pred))"
   ]
  },
  {
   "cell_type": "code",
   "execution_count": 23,
   "id": "f78d8e3b",
   "metadata": {},
   "outputs": [],
   "source": [
    "#Задание 3\n",
    "X = np.array([[-1, -1], [-2, -1], [-3, -2], [1, 1], [2, 1], [3, 2]])\n",
    "target = np.array([0, 0, 0, 1, 1, 1])"
   ]
  },
  {
   "cell_type": "code",
   "execution_count": 24,
   "id": "9d2771dc",
   "metadata": {},
   "outputs": [
    {
     "data": {
      "text/plain": [
       "((3, 2), (3, 2), (3,), (3,))"
      ]
     },
     "execution_count": 24,
     "metadata": {},
     "output_type": "execute_result"
    }
   ],
   "source": [
    "from sklearn.model_selection import train_test_split\n",
    "\n",
    "X_train, X_test, y_train, y_test = train_test_split(X, target, test_size=0.4)\n",
    "X_train.shape, X_test.shape, y_train.shape, y_test.shape"
   ]
  },
  {
   "cell_type": "code",
   "execution_count": 25,
   "id": "d9f7c93b",
   "metadata": {},
   "outputs": [
    {
     "data": {
      "text/plain": [
       "DecisionTreeClassifier()"
      ]
     },
     "execution_count": 25,
     "metadata": {},
     "output_type": "execute_result"
    }
   ],
   "source": [
    "from sklearn.tree import DecisionTreeClassifier\n",
    "from sklearn import tree\n",
    "\n",
    "classifier = DecisionTreeClassifier()\n",
    "classifier.fit(X_train, y_train)"
   ]
  },
  {
   "cell_type": "code",
   "execution_count": 26,
   "id": "b1cef8af",
   "metadata": {},
   "outputs": [
    {
     "data": {
      "text/plain": [
       "[Text(167.4, 163.07999999999998, 'X[0] <= 0.0\\ngini = 0.444\\nsamples = 3\\nvalue = [1, 2]'),\n",
       " Text(83.7, 54.360000000000014, 'gini = 0.0\\nsamples = 1\\nvalue = [1, 0]'),\n",
       " Text(251.10000000000002, 54.360000000000014, 'gini = 0.0\\nsamples = 2\\nvalue = [0, 2]')]"
      ]
     },
     "execution_count": 26,
     "metadata": {},
     "output_type": "execute_result"
    },
    {
     "data": {
      "image/png": "[encoded data removed]",
      "text/plain": [
       "<Figure size 432x288 with 1 Axes>"
      ]
     },
     "metadata": {
      "needs_background": "light"
     },
     "output_type": "display_data"
    }
   ],
   "source": [
    "tree.plot_tree(classifier)"
   ]
  },
  {
   "cell_type": "code",
   "execution_count": 27,
   "id": "cd3bf226",
   "metadata": {},
   "outputs": [
    {
     "data": {
      "text/plain": [
       "array([0, 1, 0])"
      ]
     },
     "execution_count": 27,
     "metadata": {},
     "output_type": "execute_result"
    }
   ],
   "source": [
    "y_pred = classifier.predict(X_test)\n",
    "y_pred"
   ]
  },
  {
   "cell_type": "code",
   "execution_count": 28,
   "id": "1bc95d9f",
   "metadata": {},
   "outputs": [
    {
     "name": "stdout",
     "output_type": "stream",
     "text": [
      "[[2 0]\n",
      " [0 1]]\n",
      "              precision    recall  f1-score   support\n",
      "\n",
      "           0       1.00      1.00      1.00         2\n",
      "           1       1.00      1.00      1.00         1\n",
      "\n",
      "    accuracy                           1.00         3\n",
      "   macro avg       1.00      1.00      1.00         3\n",
      "weighted avg       1.00      1.00      1.00         3\n",
      "\n"
     ]
    }
   ],
   "source": [
    "from sklearn.metrics import classification_report, confusion_matrix\n",
    "\n",
    "print(confusion_matrix(y_test, y_pred))\n",
    "print(classification_report(y_test, y_pred))"
   ]
  },
  {
   "cell_type": "code",
   "execution_count": 29,
   "id": "f7b40b52",
   "metadata": {},
   "outputs": [
    {
     "data": {
      "text/html": [
       "<div>\n",
       "<style scoped>\n",
       "    .dataframe tbody tr th:only-of-type {\n",
       "        vertical-align: middle;\n",
       "    }\n",
       "\n",
       "    .dataframe tbody tr th {\n",
       "        vertical-align: top;\n",
       "    }\n",
       "\n",
       "    .dataframe thead th {\n",
       "        text-align: right;\n",
       "    }\n",
       "</style>\n",
       "<table border=\"1\" class=\"dataframe\">\n",
       "  <thead>\n",
       "    <tr style=\"text-align: right;\">\n",
       "      <th></th>\n",
       "      <th>YearsExperience</th>\n",
       "      <th>Salary</th>\n",
       "    </tr>\n",
       "  </thead>\n",
       "  <tbody>\n",
       "    <tr>\n",
       "      <th>0</th>\n",
       "      <td>1.1</td>\n",
       "      <td>39343.0</td>\n",
       "    </tr>\n",
       "    <tr>\n",
       "      <th>1</th>\n",
       "      <td>1.3</td>\n",
       "      <td>46205.0</td>\n",
       "    </tr>\n",
       "    <tr>\n",
       "      <th>2</th>\n",
       "      <td>1.5</td>\n",
       "      <td>37731.0</td>\n",
       "    </tr>\n",
       "    <tr>\n",
       "      <th>3</th>\n",
       "      <td>2.0</td>\n",
       "      <td>43525.0</td>\n",
       "    </tr>\n",
       "    <tr>\n",
       "      <th>4</th>\n",
       "      <td>2.2</td>\n",
       "      <td>39891.0</td>\n",
       "    </tr>\n",
       "  </tbody>\n",
       "</table>\n",
       "</div>"
      ],
      "text/plain": [
       "   YearsExperience   Salary\n",
       "0              1.1  39343.0\n",
       "1              1.3  46205.0\n",
       "2              1.5  37731.0\n",
       "3              2.0  43525.0\n",
       "4              2.2  39891.0"
      ]
     },
     "execution_count": 29,
     "metadata": {},
     "output_type": "execute_result"
    }
   ],
   "source": [
    "import pandas as pd\n",
    "import numpy as np\n",
    "import matplotlib.pyplot as plt\n",
    "\n",
    "url = r'https://raw.githubusercontent.com/AnnaShestova/salary-years-simple-linear-regression/master/Salary_Data.csv'\n",
    "dataset = pd.read_csv(url)\n",
    "dataset.head()"
   ]
  },
  {
   "cell_type": "code",
   "execution_count": 30,
   "id": "f41a9fe7",
   "metadata": {},
   "outputs": [
    {
     "name": "stdout",
     "output_type": "stream",
     "text": [
      "(30, 2)\n"
     ]
    },
    {
     "data": {
      "text/html": [
       "<div>\n",
       "<style scoped>\n",
       "    .dataframe tbody tr th:only-of-type {\n",
       "        vertical-align: middle;\n",
       "    }\n",
       "\n",
       "    .dataframe tbody tr th {\n",
       "        vertical-align: top;\n",
       "    }\n",
       "\n",
       "    .dataframe thead th {\n",
       "        text-align: right;\n",
       "    }\n",
       "</style>\n",
       "<table border=\"1\" class=\"dataframe\">\n",
       "  <thead>\n",
       "    <tr style=\"text-align: right;\">\n",
       "      <th></th>\n",
       "      <th>YearsExperience</th>\n",
       "      <th>Salary</th>\n",
       "    </tr>\n",
       "  </thead>\n",
       "  <tbody>\n",
       "    <tr>\n",
       "      <th>count</th>\n",
       "      <td>30.000000</td>\n",
       "      <td>30.000000</td>\n",
       "    </tr>\n",
       "    <tr>\n",
       "      <th>mean</th>\n",
       "      <td>5.313333</td>\n",
       "      <td>76003.000000</td>\n",
       "    </tr>\n",
       "    <tr>\n",
       "      <th>std</th>\n",
       "      <td>2.837888</td>\n",
       "      <td>27414.429785</td>\n",
       "    </tr>\n",
       "    <tr>\n",
       "      <th>min</th>\n",
       "      <td>1.100000</td>\n",
       "      <td>37731.000000</td>\n",
       "    </tr>\n",
       "    <tr>\n",
       "      <th>25%</th>\n",
       "      <td>3.200000</td>\n",
       "      <td>56720.750000</td>\n",
       "    </tr>\n",
       "    <tr>\n",
       "      <th>50%</th>\n",
       "      <td>4.700000</td>\n",
       "      <td>65237.000000</td>\n",
       "    </tr>\n",
       "    <tr>\n",
       "      <th>75%</th>\n",
       "      <td>7.700000</td>\n",
       "      <td>100544.750000</td>\n",
       "    </tr>\n",
       "    <tr>\n",
       "      <th>max</th>\n",
       "      <td>10.500000</td>\n",
       "      <td>122391.000000</td>\n",
       "    </tr>\n",
       "  </tbody>\n",
       "</table>\n",
       "</div>"
      ],
      "text/plain": [
       "       YearsExperience         Salary\n",
       "count        30.000000      30.000000\n",
       "mean          5.313333   76003.000000\n",
       "std           2.837888   27414.429785\n",
       "min           1.100000   37731.000000\n",
       "25%           3.200000   56720.750000\n",
       "50%           4.700000   65237.000000\n",
       "75%           7.700000  100544.750000\n",
       "max          10.500000  122391.000000"
      ]
     },
     "execution_count": 30,
     "metadata": {},
     "output_type": "execute_result"
    }
   ],
   "source": [
    "print(dataset.shape)\n",
    "dataset.describe()"
   ]
  },
  {
   "cell_type": "code",
   "execution_count": 31,
   "id": "8aca16dc",
   "metadata": {},
   "outputs": [
    {
     "data": {
      "image/png": "[encoded data removed]",
      "text/plain": [
       "<Figure size 432x288 with 1 Axes>"
      ]
     },
     "metadata": {
      "needs_background": "light"
     },
     "output_type": "display_data"
    }
   ],
   "source": [
    "plt.scatter(dataset['YearsExperience'], dataset['Salary'], color = 'b', label = 'Заработная плата')\n",
    "plt.xlabel('Опыт(лет)')\n",
    "plt.ylabel('Заработная плата')\n",
    "plt.show()"
   ]
  },
  {
   "cell_type": "code",
   "execution_count": 32,
   "id": "2c5e8f8b",
   "metadata": {},
   "outputs": [
    {
     "name": "stdout",
     "output_type": "stream",
     "text": [
      "[[ 1.1]\n",
      " [ 1.3]\n",
      " [ 1.5]\n",
      " [ 2. ]\n",
      " [ 2.2]\n",
      " [ 2.9]\n",
      " [ 3. ]\n",
      " [ 3.2]\n",
      " [ 3.2]\n",
      " [ 3.7]\n",
      " [ 3.9]\n",
      " [ 4. ]\n",
      " [ 4. ]\n",
      " [ 4.1]\n",
      " [ 4.5]\n",
      " [ 4.9]\n",
      " [ 5.1]\n",
      " [ 5.3]\n",
      " [ 5.9]\n",
      " [ 6. ]\n",
      " [ 6.8]\n",
      " [ 7.1]\n",
      " [ 7.9]\n",
      " [ 8.2]\n",
      " [ 8.7]\n",
      " [ 9. ]\n",
      " [ 9.5]\n",
      " [ 9.6]\n",
      " [10.3]\n",
      " [10.5]]\n",
      "[ 39343.  46205.  37731.  43525.  39891.  56642.  60150.  54445.  64445.\n",
      "  57189.  63218.  55794.  56957.  57081.  61111.  67938.  66029.  83088.\n",
      "  81363.  93940.  91738.  98273. 101302. 113812. 109431. 105582. 116969.\n",
      " 112635. 122391. 121872.]\n"
     ]
    },
    {
     "data": {
      "text/plain": [
       "DecisionTreeRegressor()"
      ]
     },
     "execution_count": 32,
     "metadata": {},
     "output_type": "execute_result"
    }
   ],
   "source": [
    "from sklearn.tree import DecisionTreeRegressor\n",
    "X = dataset.iloc[:, :-1].values\n",
    "y = dataset.iloc[:, -1].values\n",
    "\n",
    "print(X)\n",
    "print(y)\n",
    "\n",
    "X_train, X_test, y_train, y_test = train_test_split(X, y, test_size = 0.2, random_state=0)\n",
    "\n",
    "regressor = DecisionTreeRegressor()\n",
    "regressor.fit(X_train, y_train)"
   ]
  },
  {
   "cell_type": "code",
   "execution_count": 33,
   "id": "6a0cd5a8",
   "metadata": {},
   "outputs": [
    {
     "data": {
      "text/plain": [
       "[Text(165.95689655172413, 203.85, 'X[0] <= 5.2\\nmse = 614737637.832\\nsamples = 24\\nvalue = 73886.208'),\n",
       " Text(69.26896551724138, 176.67000000000002, 'X[0] <= 2.55\\nmse = 81200345.857\\nsamples = 14\\nvalue = 54976.0'),\n",
       " Text(23.089655172413792, 149.49, 'X[0] <= 1.2\\nmse = 7820714.0\\nsamples = 4\\nvalue = 42241.0'),\n",
       " Text(11.544827586206896, 122.31, 'mse = 0.0\\nsamples = 1\\nvalue = 39343.0'),\n",
       " Text(34.63448275862069, 122.31, 'X[0] <= 2.1\\nmse = 6694994.667\\nsamples = 3\\nvalue = 43207.0'),\n",
       " Text(23.089655172413792, 95.13, 'X[0] <= 1.65\\nmse = 1795600.0\\nsamples = 2\\nvalue = 44865.0'),\n",
       " Text(11.544827586206896, 67.94999999999999, 'mse = 0.0\\nsamples = 1\\nvalue = 46205.0'),\n",
       " Text(34.63448275862069, 67.94999999999999, 'mse = 0.0\\nsamples = 1\\nvalue = 43525.0'),\n",
       " Text(46.179310344827584, 95.13, 'mse = 0.0\\nsamples = 1\\nvalue = 39891.0'),\n",
       " Text(115.44827586206895, 149.49, 'X[0] <= 4.7\\nmse = 19731272.6\\nsamples = 10\\nvalue = 60070.0'),\n",
       " Text(92.35862068965517, 122.31, 'X[0] <= 4.25\\nmse = 9499922.484\\nsamples = 8\\nvalue = 58341.625'),\n",
       " Text(80.81379310344828, 95.13, 'X[0] <= 3.45\\nmse = 9604901.143\\nsamples = 7\\nvalue = 57946.0'),\n",
       " Text(57.72413793103448, 67.94999999999999, 'X[0] <= 2.95\\nmse = 14313358.25\\nsamples = 4\\nvalue = 58920.5'),\n",
       " Text(46.179310344827584, 40.77000000000001, 'mse = 0.0\\nsamples = 1\\nvalue = 56642.0'),\n",
       " Text(69.26896551724138, 40.77000000000001, 'X[0] <= 3.1\\nmse = 16777116.667\\nsamples = 3\\nvalue = 59680.0'),\n",
       " Text(57.72413793103448, 13.590000000000003, 'mse = 0.0\\nsamples = 1\\nvalue = 60150.0'),\n",
       " Text(80.81379310344828, 13.590000000000003, 'mse = 25000000.0\\nsamples = 2\\nvalue = 59445.0'),\n",
       " Text(103.90344827586206, 67.94999999999999, 'X[0] <= 3.85\\nmse = 372490.889\\nsamples = 3\\nvalue = 56646.667'),\n",
       " Text(92.35862068965517, 40.77000000000001, 'mse = 0.0\\nsamples = 1\\nvalue = 57189.0'),\n",
       " Text(115.44827586206895, 40.77000000000001, 'mse = 338142.25\\nsamples = 2\\nvalue = 56375.5'),\n",
       " Text(103.90344827586206, 95.13, 'mse = 0.0\\nsamples = 1\\nvalue = 61111.0'),\n",
       " Text(138.53793103448277, 122.31, 'X[0] <= 5.0\\nmse = 911070.25\\nsamples = 2\\nvalue = 66983.5'),\n",
       " Text(126.99310344827586, 95.13, 'mse = 0.0\\nsamples = 1\\nvalue = 67938.0'),\n",
       " Text(150.08275862068965, 95.13, 'mse = 0.0\\nsamples = 1\\nvalue = 66029.0'),\n",
       " Text(262.6448275862069, 176.67000000000002, 'X[0] <= 8.05\\nmse = 160167356.45\\nsamples = 10\\nvalue = 100360.5'),\n",
       " Text(213.57931034482758, 149.49, 'X[0] <= 5.95\\nmse = 53566814.556\\nsamples = 6\\nvalue = 91617.333'),\n",
       " Text(184.71724137931034, 122.31, 'X[0] <= 5.6\\nmse = 743906.25\\nsamples = 2\\nvalue = 82225.5'),\n",
       " Text(173.17241379310343, 95.13, 'mse = 0.0\\nsamples = 1\\nvalue = 83088.0'),\n",
       " Text(196.26206896551724, 95.13, 'mse = 0.0\\nsamples = 1\\nvalue = 81363.0'),\n",
       " Text(242.44137931034481, 122.31, 'X[0] <= 6.95\\nmse = 13823368.688\\nsamples = 4\\nvalue = 96313.25'),\n",
       " Text(219.35172413793103, 95.13, 'X[0] <= 6.4\\nmse = 1212201.0\\nsamples = 2\\nvalue = 92839.0'),\n",
       " Text(207.80689655172412, 67.94999999999999, 'mse = 0.0\\nsamples = 1\\nvalue = 93940.0'),\n",
       " Text(230.8965517241379, 67.94999999999999, 'mse = 0.0\\nsamples = 1\\nvalue = 91738.0'),\n",
       " Text(265.5310344827586, 95.13, 'X[0] <= 7.5\\nmse = 2293710.25\\nsamples = 2\\nvalue = 99787.5'),\n",
       " Text(253.98620689655172, 67.94999999999999, 'mse = 0.0\\nsamples = 1\\nvalue = 98273.0'),\n",
       " Text(277.07586206896553, 67.94999999999999, 'mse = 0.0\\nsamples = 1\\nvalue = 101302.0'),\n",
       " Text(311.7103448275862, 149.49, 'X[0] <= 10.05\\nmse = 33407056.688\\nsamples = 4\\nvalue = 113475.25'),\n",
       " Text(300.1655172413793, 122.31, 'X[0] <= 8.6\\nmse = 13207004.222\\nsamples = 3\\nvalue = 110676.333'),\n",
       " Text(288.6206896551724, 95.13, 'mse = 0.0\\nsamples = 1\\nvalue = 113812.0'),\n",
       " Text(311.7103448275862, 95.13, 'X[0] <= 9.3\\nmse = 12436202.25\\nsamples = 2\\nvalue = 109108.5'),\n",
       " Text(300.1655172413793, 67.94999999999999, 'mse = 0.0\\nsamples = 1\\nvalue = 105582.0'),\n",
       " Text(323.2551724137931, 67.94999999999999, 'mse = 0.0\\nsamples = 1\\nvalue = 112635.0'),\n",
       " Text(323.2551724137931, 122.31, 'mse = 0.0\\nsamples = 1\\nvalue = 121872.0')]"
      ]
     },
     "execution_count": 33,
     "metadata": {},
     "output_type": "execute_result"
    },
    {
     "data": {
      "image/png": "[encoded data removed]",
      "text/plain": [
       "<Figure size 432x288 with 1 Axes>"
      ]
     },
     "metadata": {
      "needs_background": "light"
     },
     "output_type": "display_data"
    }
   ],
   "source": [
    "from sklearn import tree\n",
    "tree.plot_tree(regressor)"
   ]
  },
  {
   "cell_type": "code",
   "execution_count": 34,
   "id": "0f3f4c30",
   "metadata": {},
   "outputs": [
    {
     "data": {
      "text/plain": [
       "array([ 46205. , 121872. ,  56375.5,  56375.5, 112635. , 105582. ])"
      ]
     },
     "execution_count": 34,
     "metadata": {},
     "output_type": "execute_result"
    }
   ],
   "source": [
    "y_pred = regressor.predict(X_test)\n",
    "y_pred"
   ]
  },
  {
   "cell_type": "code",
   "execution_count": 35,
   "id": "ffffcf96",
   "metadata": {},
   "outputs": [
    {
     "data": {
      "text/html": [
       "<div>\n",
       "<style scoped>\n",
       "    .dataframe tbody tr th:only-of-type {\n",
       "        vertical-align: middle;\n",
       "    }\n",
       "\n",
       "    .dataframe tbody tr th {\n",
       "        vertical-align: top;\n",
       "    }\n",
       "\n",
       "    .dataframe thead th {\n",
       "        text-align: right;\n",
       "    }\n",
       "</style>\n",
       "<table border=\"1\" class=\"dataframe\">\n",
       "  <thead>\n",
       "    <tr style=\"text-align: right;\">\n",
       "      <th></th>\n",
       "      <th>Actual</th>\n",
       "      <th>Predicted</th>\n",
       "    </tr>\n",
       "  </thead>\n",
       "  <tbody>\n",
       "    <tr>\n",
       "      <th>0</th>\n",
       "      <td>37731.0</td>\n",
       "      <td>46205.0</td>\n",
       "    </tr>\n",
       "    <tr>\n",
       "      <th>1</th>\n",
       "      <td>122391.0</td>\n",
       "      <td>121872.0</td>\n",
       "    </tr>\n",
       "    <tr>\n",
       "      <th>2</th>\n",
       "      <td>57081.0</td>\n",
       "      <td>56375.5</td>\n",
       "    </tr>\n",
       "    <tr>\n",
       "      <th>3</th>\n",
       "      <td>63218.0</td>\n",
       "      <td>56375.5</td>\n",
       "    </tr>\n",
       "    <tr>\n",
       "      <th>4</th>\n",
       "      <td>116969.0</td>\n",
       "      <td>112635.0</td>\n",
       "    </tr>\n",
       "    <tr>\n",
       "      <th>5</th>\n",
       "      <td>109431.0</td>\n",
       "      <td>105582.0</td>\n",
       "    </tr>\n",
       "  </tbody>\n",
       "</table>\n",
       "</div>"
      ],
      "text/plain": [
       "     Actual  Predicted\n",
       "0   37731.0    46205.0\n",
       "1  122391.0   121872.0\n",
       "2   57081.0    56375.5\n",
       "3   63218.0    56375.5\n",
       "4  116969.0   112635.0\n",
       "5  109431.0   105582.0"
      ]
     },
     "execution_count": 35,
     "metadata": {},
     "output_type": "execute_result"
    }
   ],
   "source": [
    "df=pd.DataFrame({'Actual': y_test, 'Predicted': y_pred})\n",
    "df"
   ]
  },
  {
   "cell_type": "code",
   "execution_count": 36,
   "id": "6f99531b",
   "metadata": {},
   "outputs": [
    {
     "name": "stdout",
     "output_type": "stream",
     "text": [
      "Mean Squared Error: 25498988.416666668\n",
      "Mean Absolute Error: 4120.666666666667\n"
     ]
    }
   ],
   "source": [
    "from sklearn import metrics\n",
    "print('Mean Squared Error:', metrics.mean_squared_error(y_test, y_pred))\n",
    "print('Mean Absolute Error:', metrics.mean_absolute_error(y_test, y_pred))"
   ]
  },
  {
   "cell_type": "code",
   "execution_count": 37,
   "id": "4fa46c3a",
   "metadata": {},
   "outputs": [
    {
     "data": {
      "text/plain": [
       "5.421715809463662"
      ]
     },
     "execution_count": 37,
     "metadata": {},
     "output_type": "execute_result"
    }
   ],
   "source": [
    "metrics.mean_absolute_error(y_test, y_pred) / np.average(y) * 100"
   ]
  },
  {
   "cell_type": "code",
   "execution_count": 38,
   "id": "b6ebf64a",
   "metadata": {},
   "outputs": [
    {
     "data": {
      "text/html": [
       "<div>\n",
       "<style scoped>\n",
       "    .dataframe tbody tr th:only-of-type {\n",
       "        vertical-align: middle;\n",
       "    }\n",
       "\n",
       "    .dataframe tbody tr th {\n",
       "        vertical-align: top;\n",
       "    }\n",
       "\n",
       "    .dataframe thead th {\n",
       "        text-align: right;\n",
       "    }\n",
       "</style>\n",
       "<table border=\"1\" class=\"dataframe\">\n",
       "  <thead>\n",
       "    <tr style=\"text-align: right;\">\n",
       "      <th></th>\n",
       "      <th>Petrol_tax</th>\n",
       "      <th>Average_income</th>\n",
       "      <th>Paved_Highways</th>\n",
       "      <th>Population_Driver_licence(%)</th>\n",
       "      <th>Petrol_Consumption</th>\n",
       "    </tr>\n",
       "  </thead>\n",
       "  <tbody>\n",
       "    <tr>\n",
       "      <th>0</th>\n",
       "      <td>9.0</td>\n",
       "      <td>3571</td>\n",
       "      <td>1976</td>\n",
       "      <td>0.525</td>\n",
       "      <td>541</td>\n",
       "    </tr>\n",
       "    <tr>\n",
       "      <th>1</th>\n",
       "      <td>9.0</td>\n",
       "      <td>4092</td>\n",
       "      <td>1250</td>\n",
       "      <td>0.572</td>\n",
       "      <td>524</td>\n",
       "    </tr>\n",
       "    <tr>\n",
       "      <th>2</th>\n",
       "      <td>9.0</td>\n",
       "      <td>3865</td>\n",
       "      <td>1586</td>\n",
       "      <td>0.580</td>\n",
       "      <td>561</td>\n",
       "    </tr>\n",
       "    <tr>\n",
       "      <th>3</th>\n",
       "      <td>7.5</td>\n",
       "      <td>4870</td>\n",
       "      <td>2351</td>\n",
       "      <td>0.529</td>\n",
       "      <td>414</td>\n",
       "    </tr>\n",
       "    <tr>\n",
       "      <th>4</th>\n",
       "      <td>8.0</td>\n",
       "      <td>4399</td>\n",
       "      <td>431</td>\n",
       "      <td>0.544</td>\n",
       "      <td>410</td>\n",
       "    </tr>\n",
       "  </tbody>\n",
       "</table>\n",
       "</div>"
      ],
      "text/plain": [
       "   Petrol_tax  Average_income  Paved_Highways  Population_Driver_licence(%)  \\\n",
       "0         9.0            3571            1976                         0.525   \n",
       "1         9.0            4092            1250                         0.572   \n",
       "2         9.0            3865            1586                         0.580   \n",
       "3         7.5            4870            2351                         0.529   \n",
       "4         8.0            4399             431                         0.544   \n",
       "\n",
       "   Petrol_Consumption  \n",
       "0                 541  \n",
       "1                 524  \n",
       "2                 561  \n",
       "3                 414  \n",
       "4                 410  "
      ]
     },
     "execution_count": 38,
     "metadata": {},
     "output_type": "execute_result"
    }
   ],
   "source": [
    "#Задание 4\n",
    "import pandas as pd\n",
    "import numpy as np\n",
    "import matplotlib.pyplot as plt\n",
    "\n",
    "dataset = pd.read_csv('https://raw.githubusercontent.com/likarajo/petrol_consumption/master/data/petrol_consumption.csv')\n",
    "dataset.head()"
   ]
  },
  {
   "cell_type": "code",
   "execution_count": 39,
   "id": "c02c9110",
   "metadata": {},
   "outputs": [
    {
     "name": "stdout",
     "output_type": "stream",
     "text": [
      "(48, 5)\n",
      "Index(['Petrol_tax', 'Average_income', 'Paved_Highways',\n",
      "       'Population_Driver_licence(%)', 'Petrol_Consumption'],\n",
      "      dtype='object')\n"
     ]
    }
   ],
   "source": [
    "print(dataset.shape)\n",
    "print(dataset.columns)"
   ]
  },
  {
   "cell_type": "code",
   "execution_count": 62,
   "id": "93836086",
   "metadata": {},
   "outputs": [
    {
     "data": {
      "image/png": "[encoded data removed]",
      "text/plain": [
       "<Figure size 432x288 with 1 Axes>"
      ]
     },
     "metadata": {
      "needs_background": "light"
     },
     "output_type": "display_data"
    }
   ],
   "source": [
    "plt.scatter(dataset['Average_income'], dataset['Petrol_Consumption'], c='magenta')\n",
    "plt.ylabel(\"Потрбление бензина\")\n",
    "plt.xlabel(\"Средний доход\")\n",
    "plt.show()"
   ]
  },
  {
   "cell_type": "code",
   "execution_count": 41,
   "id": "2a58a168",
   "metadata": {},
   "outputs": [
    {
     "name": "stdout",
     "output_type": "stream",
     "text": [
      "[3571 4092 3865 4870 4399 5342 5319 5126 4447 4512 4391 5126 4817 4207\n",
      " 4332 4318 4206 3718 4716 4341 4593 4983 4897 4258 4574 3721 3448 3846\n",
      " 4188 3601 3640 3333 3063 3357 3528 3802 4045 3897 3635 4345 4449 3656\n",
      " 4300 3745 5215 4476 4296 5002]\n",
      "[541 524 561 414 410 457 344 467 464 498 580 471 525 508 566 635 603 714\n",
      " 865 640 649 540 464 547 460 566 577 631 574 534 571 554 577 628 487 644\n",
      " 640 704 648 968 587 699 632 591 782 510 610 524]\n"
     ]
    }
   ],
   "source": [
    "X = dataset['Average_income'].values\n",
    "y = dataset['Petrol_Consumption'].values\n",
    "print(X)\n",
    "print(y)"
   ]
  },
  {
   "cell_type": "code",
   "execution_count": 42,
   "id": "02d5d472",
   "metadata": {},
   "outputs": [
    {
     "data": {
      "text/plain": [
       "((38, 1), (10, 1), (38,), (10,))"
      ]
     },
     "execution_count": 42,
     "metadata": {},
     "output_type": "execute_result"
    }
   ],
   "source": [
    "from sklearn.tree import DecisionTreeRegressor\n",
    "\n",
    "X_train, X_test, y_train, y_test = train_test_split(\n",
    "    X.reshape(-1, 1),\n",
    "    y,\n",
    "    test_size=0.2,\n",
    "    random_state=0\n",
    ")\n",
    "X_train.shape, X_test.shape, y_train.shape, y_test.shape"
   ]
  },
  {
   "cell_type": "code",
   "execution_count": 43,
   "id": "bf51bfc3",
   "metadata": {},
   "outputs": [
    {
     "data": {
      "text/plain": [
       "DecisionTreeRegressor()"
      ]
     },
     "execution_count": 43,
     "metadata": {},
     "output_type": "execute_result"
    }
   ],
   "source": [
    "regressor = DecisionTreeRegressor()\n",
    "regressor.fit(X_train, y_train)"
   ]
  },
  {
   "cell_type": "code",
   "execution_count": 44,
   "id": "11fa9b5e",
   "metadata": {
    "scrolled": false
   },
   "outputs": [
    {
     "data": {
      "text/plain": [
       "[Text(248.96479591836734, 207.55636363636364, 'X[0] <= 4766.5\\nmse = 13692.341\\nsamples = 38\\nvalue = 583.974'),\n",
       " Text(190.46020408163267, 187.7890909090909, 'X[0] <= 4654.5\\nmse = 11162.49\\nsamples = 29\\nvalue = 609.31'),\n",
       " Text(183.62755102040816, 168.0218181818182, 'X[0] <= 4396.0\\nmse = 9142.861\\nsamples = 28\\nvalue = 600.179'),\n",
       " Text(121.2795918367347, 148.25454545454545, 'X[0] <= 4343.0\\nmse = 8225.376\\nsamples = 23\\nvalue = 618.435'),\n",
       " Text(114.4469387755102, 128.48727272727274, 'X[0] <= 3855.5\\nmse = 2792.43\\nsamples = 22\\nvalue = 602.545'),\n",
       " Text(42.704081632653065, 108.72, 'X[0] <= 3603.0\\nmse = 3095.04\\nsamples = 10\\nvalue = 621.6'),\n",
       " Text(20.49795918367347, 88.95272727272729, 'X[0] <= 3464.0\\nmse = 1468.222\\nsamples = 3\\nvalue = 574.333'),\n",
       " Text(13.66530612244898, 69.18545454545455, 'X[0] <= 3345.0\\nmse = 1369.0\\nsamples = 2\\nvalue = 591.0'),\n",
       " Text(6.83265306122449, 49.418181818181836, 'mse = 0.0\\nsamples = 1\\nvalue = 554.0'),\n",
       " Text(20.49795918367347, 49.418181818181836, 'mse = 0.0\\nsamples = 1\\nvalue = 628.0'),\n",
       " Text(27.33061224489796, 69.18545454545455, 'mse = 0.0\\nsamples = 1\\nvalue = 541.0'),\n",
       " Text(64.91020408163266, 88.95272727272729, 'X[0] <= 3719.5\\nmse = 2424.408\\nsamples = 7\\nvalue = 641.857'),\n",
       " Text(40.99591836734694, 69.18545454545455, 'X[0] <= 3645.5\\nmse = 798.0\\nsamples = 3\\nvalue = 687.0'),\n",
       " Text(34.16326530612245, 49.418181818181836, 'mse = 0.0\\nsamples = 1\\nvalue = 648.0'),\n",
       " Text(47.82857142857143, 49.418181818181836, 'X[0] <= 3687.0\\nmse = 56.25\\nsamples = 2\\nvalue = 706.5'),\n",
       " Text(40.99591836734694, 29.650909090909096, 'mse = 0.0\\nsamples = 1\\nvalue = 699.0'),\n",
       " Text(54.66122448979592, 29.650909090909096, 'mse = 0.0\\nsamples = 1\\nvalue = 714.0'),\n",
       " Text(88.82448979591837, 69.18545454545455, 'X[0] <= 3773.5\\nmse = 969.5\\nsamples = 4\\nvalue = 608.0'),\n",
       " Text(75.15918367346939, 49.418181818181836, 'X[0] <= 3733.0\\nmse = 156.25\\nsamples = 2\\nvalue = 578.5'),\n",
       " Text(68.3265306122449, 29.650909090909096, 'mse = 0.0\\nsamples = 1\\nvalue = 566.0'),\n",
       " Text(81.99183673469388, 29.650909090909096, 'mse = 0.0\\nsamples = 1\\nvalue = 591.0'),\n",
       " Text(102.48979591836735, 49.418181818181836, 'X[0] <= 3824.0\\nmse = 42.25\\nsamples = 2\\nvalue = 637.5'),\n",
       " Text(95.65714285714286, 29.650909090909096, 'mse = 0.0\\nsamples = 1\\nvalue = 644.0'),\n",
       " Text(109.32244897959184, 29.650909090909096, 'mse = 0.0\\nsamples = 1\\nvalue = 631.0'),\n",
       " Text(186.18979591836737, 108.72, 'X[0] <= 4277.0\\nmse = 1985.556\\nsamples = 12\\nvalue = 586.667'),\n",
       " Text(160.56734693877553, 88.95272727272729, 'X[0] <= 4206.5\\nmse = 1774.204\\nsamples = 7\\nvalue = 565.286'),\n",
       " Text(143.4857142857143, 69.18545454545455, 'X[0] <= 4068.5\\nmse = 1532.24\\nsamples = 5\\nvalue = 580.4'),\n",
       " Text(129.8204081632653, 49.418181818181836, 'X[0] <= 3955.0\\nmse = 1560.25\\nsamples = 2\\nvalue = 600.5'),\n",
       " Text(122.98775510204082, 29.650909090909096, 'mse = 0.0\\nsamples = 1\\nvalue = 561.0'),\n",
       " Text(136.6530612244898, 29.650909090909096, 'mse = 0.0\\nsamples = 1\\nvalue = 640.0'),\n",
       " Text(157.15102040816328, 49.418181818181836, 'X[0] <= 4140.0\\nmse = 1064.667\\nsamples = 3\\nvalue = 567.0'),\n",
       " Text(150.31836734693877, 29.650909090909096, 'mse = 0.0\\nsamples = 1\\nvalue = 524.0'),\n",
       " Text(163.98367346938775, 29.650909090909096, 'X[0] <= 4197.0\\nmse = 210.25\\nsamples = 2\\nvalue = 588.5'),\n",
       " Text(157.15102040816328, 9.883636363636384, 'mse = 0.0\\nsamples = 1\\nvalue = 574.0'),\n",
       " Text(170.81632653061226, 9.883636363636384, 'mse = 0.0\\nsamples = 1\\nvalue = 603.0'),\n",
       " Text(177.64897959183673, 69.18545454545455, 'X[0] <= 4232.5\\nmse = 380.25\\nsamples = 2\\nvalue = 527.5'),\n",
       " Text(170.81632653061226, 49.418181818181836, 'mse = 0.0\\nsamples = 1\\nvalue = 508.0'),\n",
       " Text(184.48163265306124, 49.418181818181836, 'mse = 0.0\\nsamples = 1\\nvalue = 547.0'),\n",
       " Text(211.8122448979592, 88.95272727272729, 'X[0] <= 4336.5\\nmse = 745.44\\nsamples = 5\\nvalue = 616.6'),\n",
       " Text(204.9795918367347, 69.18545454545455, 'X[0] <= 4325.0\\nmse = 760.688\\nsamples = 4\\nvalue = 610.75'),\n",
       " Text(198.14693877551022, 49.418181818181836, 'X[0] <= 4298.0\\nmse = 124.222\\nsamples = 3\\nvalue = 625.667'),\n",
       " Text(191.31428571428572, 29.650909090909096, 'mse = 0.0\\nsamples = 1\\nvalue = 610.0'),\n",
       " Text(204.9795918367347, 29.650909090909096, 'X[0] <= 4309.0\\nmse = 2.25\\nsamples = 2\\nvalue = 633.5'),\n",
       " Text(198.14693877551022, 9.883636363636384, 'mse = 0.0\\nsamples = 1\\nvalue = 632.0'),\n",
       " Text(211.8122448979592, 9.883636363636384, 'mse = 0.0\\nsamples = 1\\nvalue = 635.0'),\n",
       " Text(211.8122448979592, 49.418181818181836, 'mse = 0.0\\nsamples = 1\\nvalue = 566.0'),\n",
       " Text(218.64489795918368, 69.18545454545455, 'mse = 0.0\\nsamples = 1\\nvalue = 640.0'),\n",
       " Text(128.1122448979592, 128.48727272727274, 'mse = 0.0\\nsamples = 1\\nvalue = 968.0'),\n",
       " Text(245.97551020408164, 148.25454545454545, 'X[0] <= 4583.5\\nmse = 4777.76\\nsamples = 5\\nvalue = 516.2'),\n",
       " Text(239.14285714285714, 128.48727272727274, 'X[0] <= 4543.0\\nmse = 461.0\\nsamples = 4\\nvalue = 483.0'),\n",
       " Text(232.31020408163266, 108.72, 'X[0] <= 4461.5\\nmse = 379.556\\nsamples = 3\\nvalue = 490.667'),\n",
       " Text(225.47755102040816, 88.95272727272729, 'mse = 0.0\\nsamples = 1\\nvalue = 464.0'),\n",
       " Text(239.14285714285714, 88.95272727272729, 'X[0] <= 4494.0\\nmse = 36.0\\nsamples = 2\\nvalue = 504.0'),\n",
       " Text(232.31020408163266, 69.18545454545455, 'mse = 0.0\\nsamples = 1\\nvalue = 510.0'),\n",
       " Text(245.97551020408164, 69.18545454545455, 'mse = 0.0\\nsamples = 1\\nvalue = 498.0'),\n",
       " Text(245.97551020408164, 108.72, 'mse = 0.0\\nsamples = 1\\nvalue = 460.0'),\n",
       " Text(252.80816326530612, 128.48727272727274, 'mse = 0.0\\nsamples = 1\\nvalue = 649.0'),\n",
       " Text(197.29285714285714, 168.0218181818182, 'mse = 0.0\\nsamples = 1\\nvalue = 865.0'),\n",
       " Text(307.46938775510205, 187.7890909090909, 'X[0] <= 5267.0\\nmse = 13110.444\\nsamples = 9\\nvalue = 502.333'),\n",
       " Text(293.8040816326531, 168.0218181818182, 'X[0] <= 5170.5\\nmse = 12134.816\\nsamples = 7\\nvalue = 531.429'),\n",
       " Text(286.9714285714286, 148.25454545454545, 'X[0] <= 4940.0\\nmse = 1948.889\\nsamples = 6\\nvalue = 489.667'),\n",
       " Text(266.47346938775513, 128.48727272727274, 'X[0] <= 4843.5\\nmse = 2060.222\\nsamples = 3\\nvalue = 467.667'),\n",
       " Text(259.6408163265306, 108.72, 'mse = 0.0\\nsamples = 1\\nvalue = 525.0'),\n",
       " Text(273.3061224489796, 108.72, 'X[0] <= 4883.5\\nmse = 625.0\\nsamples = 2\\nvalue = 439.0'),\n",
       " Text(266.47346938775513, 88.95272727272729, 'mse = 0.0\\nsamples = 1\\nvalue = 414.0'),\n",
       " Text(280.1387755102041, 88.95272727272729, 'mse = 0.0\\nsamples = 1\\nvalue = 464.0'),\n",
       " Text(307.46938775510205, 128.48727272727274, 'X[0] <= 5064.0\\nmse = 869.556\\nsamples = 3\\nvalue = 511.667'),\n",
       " Text(300.63673469387754, 108.72, 'X[0] <= 4992.5\\nmse = 64.0\\nsamples = 2\\nvalue = 532.0'),\n",
       " Text(293.8040816326531, 88.95272727272729, 'mse = 0.0\\nsamples = 1\\nvalue = 540.0'),\n",
       " Text(307.46938775510205, 88.95272727272729, 'mse = 0.0\\nsamples = 1\\nvalue = 524.0'),\n",
       " Text(314.30204081632655, 108.72, 'mse = 0.0\\nsamples = 1\\nvalue = 471.0'),\n",
       " Text(300.63673469387754, 148.25454545454545, 'mse = 0.0\\nsamples = 1\\nvalue = 782.0'),\n",
       " Text(321.13469387755106, 168.0218181818182, 'X[0] <= 5330.5\\nmse = 3192.25\\nsamples = 2\\nvalue = 400.5'),\n",
       " Text(314.30204081632655, 148.25454545454545, 'mse = 0.0\\nsamples = 1\\nvalue = 344.0'),\n",
       " Text(327.9673469387755, 148.25454545454545, 'mse = 0.0\\nsamples = 1\\nvalue = 457.0')]"
      ]
     },
     "execution_count": 44,
     "metadata": {},
     "output_type": "execute_result"
    },
    {
     "data": {
      "image/png": "[encoded data removed]",
      "text/plain": [
       "<Figure size 432x288 with 1 Axes>"
      ]
     },
     "metadata": {
      "needs_background": "light"
     },
     "output_type": "display_data"
    }
   ],
   "source": [
    "tree.plot_tree(regressor)"
   ]
  },
  {
   "cell_type": "code",
   "execution_count": 45,
   "id": "84b6e865",
   "metadata": {},
   "outputs": [
    {
     "name": "stdout",
     "output_type": "stream",
     "text": [
      "[541. 464. 628. 648. 554. 561. 541. 464. 471. 968.]\n"
     ]
    },
    {
     "data": {
      "text/html": [
       "<div>\n",
       "<style scoped>\n",
       "    .dataframe tbody tr th:only-of-type {\n",
       "        vertical-align: middle;\n",
       "    }\n",
       "\n",
       "    .dataframe tbody tr th {\n",
       "        vertical-align: top;\n",
       "    }\n",
       "\n",
       "    .dataframe thead th {\n",
       "        text-align: right;\n",
       "    }\n",
       "</style>\n",
       "<table border=\"1\" class=\"dataframe\">\n",
       "  <thead>\n",
       "    <tr style=\"text-align: right;\">\n",
       "      <th></th>\n",
       "      <th>Actual</th>\n",
       "      <th>Predicted</th>\n",
       "    </tr>\n",
       "  </thead>\n",
       "  <tbody>\n",
       "    <tr>\n",
       "      <th>0</th>\n",
       "      <td>534</td>\n",
       "      <td>541.0</td>\n",
       "    </tr>\n",
       "    <tr>\n",
       "      <th>1</th>\n",
       "      <td>410</td>\n",
       "      <td>464.0</td>\n",
       "    </tr>\n",
       "    <tr>\n",
       "      <th>2</th>\n",
       "      <td>577</td>\n",
       "      <td>628.0</td>\n",
       "    </tr>\n",
       "    <tr>\n",
       "      <th>3</th>\n",
       "      <td>571</td>\n",
       "      <td>648.0</td>\n",
       "    </tr>\n",
       "    <tr>\n",
       "      <th>4</th>\n",
       "      <td>577</td>\n",
       "      <td>554.0</td>\n",
       "    </tr>\n",
       "    <tr>\n",
       "      <th>5</th>\n",
       "      <td>704</td>\n",
       "      <td>561.0</td>\n",
       "    </tr>\n",
       "    <tr>\n",
       "      <th>6</th>\n",
       "      <td>487</td>\n",
       "      <td>541.0</td>\n",
       "    </tr>\n",
       "    <tr>\n",
       "      <th>7</th>\n",
       "      <td>587</td>\n",
       "      <td>464.0</td>\n",
       "    </tr>\n",
       "    <tr>\n",
       "      <th>8</th>\n",
       "      <td>467</td>\n",
       "      <td>471.0</td>\n",
       "    </tr>\n",
       "    <tr>\n",
       "      <th>9</th>\n",
       "      <td>580</td>\n",
       "      <td>968.0</td>\n",
       "    </tr>\n",
       "  </tbody>\n",
       "</table>\n",
       "</div>"
      ],
      "text/plain": [
       "   Actual  Predicted\n",
       "0     534      541.0\n",
       "1     410      464.0\n",
       "2     577      628.0\n",
       "3     571      648.0\n",
       "4     577      554.0\n",
       "5     704      561.0\n",
       "6     487      541.0\n",
       "7     587      464.0\n",
       "8     467      471.0\n",
       "9     580      968.0"
      ]
     },
     "execution_count": 45,
     "metadata": {},
     "output_type": "execute_result"
    }
   ],
   "source": [
    "y_pred = regressor.predict(X_test)\n",
    "df = pd.DataFrame({'Actual': y_test, 'Predicted': y_pred});\n",
    "print(y_pred)\n",
    "df"
   ]
  },
  {
   "cell_type": "code",
   "execution_count": 46,
   "id": "0c438a66",
   "metadata": {},
   "outputs": [
    {
     "name": "stdout",
     "output_type": "stream",
     "text": [
      "Mean Squared Error: 20107.8\n",
      "Mean Absolute Error: 92.4\n",
      "16.020227560050568\n"
     ]
    }
   ],
   "source": [
    "from sklearn import metrics\n",
    "\n",
    "print('Mean Squared Error:', metrics.mean_squared_error(y_test, y_pred))\n",
    "print('Mean Absolute Error:', metrics.mean_absolute_error(y_test, y_pred))\n",
    "print(metrics.mean_absolute_error(y_test, y_pred) / np.average(y) * 100)"
   ]
  }
 ],
 "metadata": {
  "kernelspec": {
   "display_name": "Python 3 (ipykernel)",
   "language": "python",
   "name": "python3"
  },
  "language_info": {
   "codemirror_mode": {
    "name": "ipython",
    "version": 3
   },
   "file_extension": ".py",
   "mimetype": "text/x-python",
   "name": "python",
   "nbconvert_exporter": "python",
   "pygments_lexer": "ipython3",
   "version": "3.9.12"
  }
 },
 "nbformat": 4,
 "nbformat_minor": 5
}
