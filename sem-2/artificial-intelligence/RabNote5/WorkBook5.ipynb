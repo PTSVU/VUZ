{
 "cells": [
  {
   "cell_type": "markdown",
   "source": [
    "# 1.1."
   ],
   "metadata": {
    "collapsed": false
   }
  },
  {
   "cell_type": "code",
   "execution_count": 7,
   "id": "813f7a38",
   "metadata": {},
   "outputs": [
    {
     "name": "stdout",
     "output_type": "stream",
     "text": [
      "Обезьяна\n"
     ]
    }
   ],
   "source": [
    "class TAnimal:\n",
    "    name = \"\"\n",
    "    def __init__(self, name):\n",
    "        self.name = name\n",
    "    def say(self):\n",
    "        print(self.name)\n",
    "        \n",
    "Animal = TAnimal(\"Обезьяна\")\n",
    "Animal.say()"
   ]
  },
  {
   "cell_type": "code",
   "execution_count": 8,
   "id": "86dac882",
   "metadata": {},
   "outputs": [
    {
     "name": "stdout",
     "output_type": "stream",
     "text": [
      "Кошка\n",
      "Мяу!\n"
     ]
    }
   ],
   "source": [
    "class TCat(TAnimal):\n",
    "    def __init__(self):\n",
    "        super().__init__(\"Кошка\")\n",
    "    def may(self):\n",
    "        print(\"Мяу!\")\n",
    "        \n",
    "Cat = TCat()\n",
    "Cat.say()\n",
    "Cat.may()"
   ]
  },
  {
   "cell_type": "code",
   "execution_count": 9,
   "id": "319dc55c",
   "metadata": {},
   "outputs": [
    {
     "name": "stdout",
     "output_type": "stream",
     "text": [
      "Result = 6\n"
     ]
    }
   ],
   "source": [
    "class TDo:\n",
    "    def Operation(self, x, y):\n",
    "        return x+y\n",
    "    def Run(self):\n",
    "        x = int(input(\"Enter x > \"))\n",
    "        y = int(input(\"Enter y > \"))\n",
    "        z = self.Operation(x, y)\n",
    "        print(\"Result = \" + z.__str__())\n",
    "        \n",
    "Do = TDo()\n",
    "Do.Run()"
   ]
  },
  {
   "cell_type": "code",
   "execution_count": 10,
   "id": "f661a979",
   "metadata": {},
   "outputs": [
    {
     "name": "stdout",
     "output_type": "stream",
     "text": [
      "Result = 9\n"
     ]
    }
   ],
   "source": [
    "class TDo2(TDo):\n",
    "    def Operation(self, x, y):\n",
    "        return x*y\n",
    "    \n",
    "Do2 = TDo2()\n",
    "Do2.Run()"
   ]
  },
  {
   "cell_type": "markdown",
   "source": [
    "# 1.2.1"
   ],
   "metadata": {
    "collapsed": false
   }
  },
  {
   "cell_type": "code",
   "execution_count": 11,
   "id": "6c15153b",
   "metadata": {},
   "outputs": [
    {
     "name": "stdout",
     "output_type": "stream",
     "text": [
      "['inheritance']\n",
      "['inheritance', 'class']\n"
     ]
    }
   ],
   "source": [
    "class Data:\n",
    "    def __init__(self, *info):\n",
    "        self.info = list(info)\n",
    "    def __getitem__(self, i):\n",
    "        return self.info[i]\n",
    "    \n",
    "class Teacher:\n",
    "    def teach(self, info, *pupil):\n",
    "        for i in pupil:\n",
    "            i.take(info)\n",
    "            \n",
    "class Pupil:\n",
    "    def __init__(self):\n",
    "        self.knowledge = []\n",
    "    def take(self, info):\n",
    "        self.knowledge.append(info)\n",
    "        \n",
    "lesson = Data('class', 'object', 'inheritance', 'polymorphism', 'encapsulation')\n",
    "marIvanna = Teacher()\n",
    "vasy = Pupil()\n",
    "pety = Pupil()\n",
    "marIvanna.teach(lesson[2], vasy, pety)\n",
    "marIvanna.teach(lesson[0], pety)\n",
    "print(vasy.knowledge)\n",
    "print(pety.knowledge)"
   ]
  },
  {
   "cell_type": "markdown",
   "source": [
    "# 1.2.2"
   ],
   "metadata": {
    "collapsed": false
   }
  },
  {
   "cell_type": "code",
   "execution_count": 13,
   "id": "a7f98c9d",
   "metadata": {},
   "outputs": [
    {
     "name": "stdout",
     "output_type": "stream",
     "text": [
      "Warrior2  has attacked\n",
      "80  left\n",
      "Warrior1  has attacked\n",
      "80  left\n",
      "Warrior2  has attacked\n",
      "60  left\n",
      "Warrior2  has attacked\n",
      "40  left\n",
      "Warrior2  has attacked\n",
      "20  left\n",
      "Warrior2  has attacked\n",
      "0  left\n",
      "Warrior2  has won\n",
      "Warrior1  has attacked\n",
      "60  left\n",
      "Warrior2  has attacked\n",
      "0  left\n",
      "Warrior2  has won\n"
     ]
    }
   ],
   "source": [
    "import random\n",
    "class Warrior:\n",
    "    def __init__(self, health):\n",
    "        self.health = health\n",
    "        \n",
    "    def hit(self, target, target1):\n",
    "        if target.health > 0:\n",
    "            target.health -= 20\n",
    "        if target1 == warrior1:\n",
    "            target1 = \"Warrior1\"\n",
    "        if target1 == warrior2:\n",
    "            target1 = \"Warrior2\"\n",
    "        print(target1, \" has attacked\")\n",
    "        print(target.health, \" left\")\n",
    "        if target.health == 0:\n",
    "            print(target1, \" has won\")\n",
    "            \n",
    "warrior1 = Warrior(100)\n",
    "warrior2 = Warrior(100)\n",
    "q = int(input(\"Enter 1 to attack. Enter 2 to stop program:\"))\n",
    "\n",
    "while q != 2:\n",
    "    if q == 1:\n",
    "        j = random.randint(1, 3)\n",
    "        if j % 2 == 0:\n",
    "            warrior1.hit(warrior2, warrior1)\n",
    "        else:\n",
    "            warrior2.hit(warrior1, warrior2)\n",
    "        q = int(input(\"Enter 1 to let some warrior attack: \"))\n",
    "    else:\n",
    "        print(\"Wrong input.\")\n",
    "        break;\n"
   ]
  },
  {
   "cell_type": "markdown",
   "source": [
    "# 1.2.3"
   ],
   "metadata": {
    "collapsed": false
   }
  },
  {
   "cell_type": "code",
   "execution_count": 14,
   "id": "e31a8caa",
   "metadata": {},
   "outputs": [
    {
     "name": "stdout",
     "output_type": "stream",
     "text": [
      "5/6\n",
      "1/6\n",
      "1/6\n",
      "1/6\n",
      "3/2\n",
      "13/2\n"
     ]
    }
   ],
   "source": [
    "class Rational:\n",
    "    \n",
    "    @staticmethod\n",
    "    def gcd(a, b):\n",
    "        while(b != 0):\n",
    "            (a, b) = (b, a%b)\n",
    "        return a\n",
    "    \n",
    "    @staticmethod\n",
    "    def sgn(x):\n",
    "        if x > 0:\n",
    "            return 1\n",
    "        elif x < 0:\n",
    "            return -1\n",
    "        else:\n",
    "            return 0\n",
    "        \n",
    "    def __init__(self, n, d):\n",
    "        if n == 0:\n",
    "            self.num = 0\n",
    "            self.den = 1\n",
    "        else:\n",
    "            z = self.sgn(n)*self.sgn(d)\n",
    "            n = abs(n)\n",
    "            d = abs(d)\n",
    "            k = self.gcd(n, d)\n",
    "            self.num = z*n//k\n",
    "            self.den = d//k\n",
    "            \n",
    "    def __str__(self):\n",
    "        if self.num == 0:\n",
    "            return \"0\"\n",
    "        else:\n",
    "            return str(self.num)+\"/\"+str(self.den)\n",
    "        \n",
    "    def __add__(self, o):\n",
    "        n1 = self.num\n",
    "        d1 = self.den\n",
    "        if type(o) == int:\n",
    "            n2 = o\n",
    "            d2 = 1\n",
    "        else:\n",
    "            n2 = o.num\n",
    "            d2 = o.den\n",
    "        n = n1*d2+n2*d1\n",
    "        d = d1*d2\n",
    "        return Rational(n, d)\n",
    "    \n",
    "    def __radd__(self, o):\n",
    "        n1 = self.num\n",
    "        d1 = self.den\n",
    "        if type(o) == int:\n",
    "            n2 = o\n",
    "            d2 = 1\n",
    "        else:\n",
    "            n2 = o.num\n",
    "            d2 = o.den\n",
    "        n = n1*d2+n2*d1\n",
    "        d = d1*d2\n",
    "        return Rational(n, d)\n",
    "    \n",
    "    def __sub__(self, o):\n",
    "        n1 = self.num\n",
    "        d1 = self.den\n",
    "        n2 = o.num\n",
    "        d2 = o.den\n",
    "        n = n1*d2-n2*d1\n",
    "        d = d1*d2\n",
    "        return Rational(n, d)\n",
    "    \n",
    "    def __mul__(self, o):\n",
    "        n1 = self.num\n",
    "        d1 = self.den\n",
    "        n2 = o.num\n",
    "        d2 = o.den\n",
    "        n = n1*n2\n",
    "        d = d1*d2\n",
    "        return Rational(n, d)\n",
    "    \n",
    "    def __floordiv__(self, o):\n",
    "        n1 = self.num\n",
    "        d1 = self.den\n",
    "        n2 = o.num\n",
    "        d2 = o.den\n",
    "        n = n1*d2\n",
    "        d = d1*n2\n",
    "        return Rational(n, d)\n",
    "    \n",
    "d1 = Rational(1, 2)\n",
    "d2 = Rational(1, 3)\n",
    "d3 = d1+d2\n",
    "print(d3)\n",
    "d4 = d1-d2\n",
    "print(d4)\n",
    "d5 = d1*d2\n",
    "print(d5)\n",
    "d6 = d1*d2\n",
    "print(d6)\n",
    "d7 = d1//d2\n",
    "print(d7)\n",
    "d8 = 6+d1\n",
    "print(d8)"
   ]
  },
  {
   "cell_type": "code",
   "execution_count": 15,
   "id": "81499ec3",
   "metadata": {},
   "outputs": [
    {
     "name": "stdout",
     "output_type": "stream",
     "text": [
      "0.28366218546322625\n",
      "0.9092974268256817\n",
      "1.5574077246549023\n",
      "1.5707963267948966\n",
      "0.0\n",
      "-0.7853981633974483\n",
      "0.08726646259971647\n"
     ]
    }
   ],
   "source": [
    "import math\n",
    "\n",
    "class Calculator():\n",
    "    def cos(self, degree):\n",
    "        return math.cos(degree)\n",
    "    \n",
    "    def sin(self, degree):\n",
    "        return math.sin(degree)\n",
    "    \n",
    "    def tan(self, degree):\n",
    "        return math.tan(degree)\n",
    "    \n",
    "    def asin(self, degree):\n",
    "        return math.asin(degree)\n",
    "    \n",
    "    def acos(self, degree):\n",
    "        return math.acos(degree)\n",
    "    \n",
    "    def atan(self, degree):\n",
    "        return math.atan(degree)\n",
    "    \n",
    "    def toRadians(self, degree):\n",
    "        return math.radians(degree)\n",
    "    \n",
    "calculator = Calculator()\n",
    "print(calculator.cos(5))\n",
    "print(calculator.sin(2))\n",
    "print(calculator.tan(1))\n",
    "print(calculator.asin(1))\n",
    "print(calculator.acos(1))\n",
    "print(calculator.atan(-1))\n",
    "print(calculator.toRadians(5))"
   ]
  },
  {
   "cell_type": "markdown",
   "source": [
    "# 1.2."
   ],
   "metadata": {
    "collapsed": false
   }
  },
  {
   "cell_type": "code",
   "execution_count": 16,
   "id": "af5947cd",
   "metadata": {},
   "outputs": [
    {
     "name": "stdout",
     "output_type": "stream",
     "text": [
      "b\n",
      "e\n"
     ]
    }
   ],
   "source": [
    "T = [[\"a\", \"b\"], [\"c\"], [\"d\", [\"e\", \"f\"]]]\n",
    "print(T[0][1])\n",
    "print(T[2][1][0])"
   ]
  },
  {
   "cell_type": "markdown",
   "source": [
    "# 1.2.1"
   ],
   "metadata": {
    "collapsed": false
   }
  },
  {
   "cell_type": "code",
   "execution_count": 17,
   "id": "26702223",
   "metadata": {},
   "outputs": [
    {
     "data": {
      "text/plain": "'c'"
     },
     "execution_count": 17,
     "metadata": {},
     "output_type": "execute_result"
    }
   ],
   "source": [
    "class Tree:\n",
    "    def __init__(self, left, right):\n",
    "        self.left = left\n",
    "        self.right = right\n",
    "        \n",
    "t = Tree(Tree(\"a\", \"b\"), Tree(\"c\", \"d\"))\n",
    "t.right.left"
   ]
  },
  {
   "cell_type": "markdown",
   "source": [
    "# 1.2.2"
   ],
   "metadata": {
    "collapsed": false
   }
  },
  {
   "cell_type": "code",
   "execution_count": 18,
   "id": "2de374bc",
   "metadata": {},
   "outputs": [
    {
     "data": {
      "text/plain": "'c'"
     },
     "execution_count": 18,
     "metadata": {},
     "output_type": "execute_result"
    }
   ],
   "source": [
    "class Tree:\n",
    "    def __init__(self, kids, next=None):\n",
    "        self.kids = self.val = kids\n",
    "        self.next = next\n",
    "        \n",
    "t = Tree(Tree(\"a\", Tree(\"b\", Tree(\"c\", Tree(\"d\")))))\n",
    "t.kids.next.next.val"
   ]
  },
  {
   "cell_type": "code",
   "execution_count": 19,
   "id": "50f6de73",
   "metadata": {},
   "outputs": [
    {
     "name": "stdout",
     "output_type": "stream",
     "text": [
      "['a', ['b', ['d'], ['e']], ['c', ['f']]]\n",
      "['b', ['d'], ['e']]\n",
      "['c', ['f']]\n"
     ]
    }
   ],
   "source": [
    "T = ['a', ['b', ['d'], ['e']], ['c', ['f']]]\n",
    "print(T)\n",
    "print(T[1])\n",
    "print(T[2])"
   ]
  },
  {
   "cell_type": "code",
   "execution_count": 20,
   "id": "b67d9221",
   "metadata": {},
   "outputs": [
    {
     "name": "stdout",
     "output_type": "stream",
     "text": [
      "3\n",
      "2\n",
      "10\n",
      "5\n",
      "6\n"
     ]
    }
   ],
   "source": [
    "class Tree:\n",
    "    def __init__(self, data):\n",
    "        self.left = None\n",
    "        self.right = None\n",
    "        self.data = data\n",
    "            \n",
    "    def PrintTree(self):\n",
    "        print(self.data)\n",
    "        \n",
    "def insert(tree, val):\n",
    "    if(val < tree.data):\n",
    "        if(tree.left):\n",
    "            insert(tree.left, val)\n",
    "        else:\n",
    "            tree.left = Tree(val)\n",
    "    else:\n",
    "        if(tree.right):\n",
    "            insert(tree.right, val)\n",
    "        else:\n",
    "            tree.right = Tree(val)\n",
    "        \n",
    "def printTree(tree):\n",
    "    tree.PrintTree()\n",
    "    if(tree.left):\n",
    "        printTree(tree.left)\n",
    "    if(tree.right):\n",
    "        printTree(tree.right)\n",
    "        \n",
    "        \n",
    "root = Tree(3)\n",
    "insert(root, 2)\n",
    "insert(root, 10)\n",
    "insert(root, 5)\n",
    "insert(root, 6)\n",
    "\n",
    "printTree(root)\n",
    "\n"
   ]
  },
  {
   "cell_type": "markdown",
   "source": [
    "# 1.3.1"
   ],
   "metadata": {
    "collapsed": false
   }
  },
  {
   "cell_type": "code",
   "execution_count": 22,
   "id": "65901b3d",
   "metadata": {},
   "outputs": [
    {
     "data": {
      "text/plain": "     sepal_length_cm  sepal_width_cm  petal_length_cm  petal_width_cm  \\\n0                5.1             3.5              1.4             0.2   \n1                4.9             3.0              1.4             0.2   \n2                4.7             3.2              1.3             0.2   \n3                4.6             3.1              1.5             0.2   \n4                5.0             3.6              1.4             0.2   \n..               ...             ...              ...             ...   \n145              6.7             3.0              5.2             2.3   \n146              6.3             2.5              5.0             1.9   \n147              6.5             3.0              5.2             2.0   \n148              6.2             3.4              5.4             2.3   \n149              5.9             3.0              5.1             1.8   \n\n       species  \n0       setosa  \n1       setosa  \n2       setosa  \n3       setosa  \n4       setosa  \n..         ...  \n145  virginica  \n146  virginica  \n147  virginica  \n148  virginica  \n149  virginica  \n\n[150 rows x 5 columns]",
      "text/html": "<div>\n<style scoped>\n    .dataframe tbody tr th:only-of-type {\n        vertical-align: middle;\n    }\n\n    .dataframe tbody tr th {\n        vertical-align: top;\n    }\n\n    .dataframe thead th {\n        text-align: right;\n    }\n</style>\n<table border=\"1\" class=\"dataframe\">\n  <thead>\n    <tr style=\"text-align: right;\">\n      <th></th>\n      <th>sepal_length_cm</th>\n      <th>sepal_width_cm</th>\n      <th>petal_length_cm</th>\n      <th>petal_width_cm</th>\n      <th>species</th>\n    </tr>\n  </thead>\n  <tbody>\n    <tr>\n      <th>0</th>\n      <td>5.1</td>\n      <td>3.5</td>\n      <td>1.4</td>\n      <td>0.2</td>\n      <td>setosa</td>\n    </tr>\n    <tr>\n      <th>1</th>\n      <td>4.9</td>\n      <td>3.0</td>\n      <td>1.4</td>\n      <td>0.2</td>\n      <td>setosa</td>\n    </tr>\n    <tr>\n      <th>2</th>\n      <td>4.7</td>\n      <td>3.2</td>\n      <td>1.3</td>\n      <td>0.2</td>\n      <td>setosa</td>\n    </tr>\n    <tr>\n      <th>3</th>\n      <td>4.6</td>\n      <td>3.1</td>\n      <td>1.5</td>\n      <td>0.2</td>\n      <td>setosa</td>\n    </tr>\n    <tr>\n      <th>4</th>\n      <td>5.0</td>\n      <td>3.6</td>\n      <td>1.4</td>\n      <td>0.2</td>\n      <td>setosa</td>\n    </tr>\n    <tr>\n      <th>...</th>\n      <td>...</td>\n      <td>...</td>\n      <td>...</td>\n      <td>...</td>\n      <td>...</td>\n    </tr>\n    <tr>\n      <th>145</th>\n      <td>6.7</td>\n      <td>3.0</td>\n      <td>5.2</td>\n      <td>2.3</td>\n      <td>virginica</td>\n    </tr>\n    <tr>\n      <th>146</th>\n      <td>6.3</td>\n      <td>2.5</td>\n      <td>5.0</td>\n      <td>1.9</td>\n      <td>virginica</td>\n    </tr>\n    <tr>\n      <th>147</th>\n      <td>6.5</td>\n      <td>3.0</td>\n      <td>5.2</td>\n      <td>2.0</td>\n      <td>virginica</td>\n    </tr>\n    <tr>\n      <th>148</th>\n      <td>6.2</td>\n      <td>3.4</td>\n      <td>5.4</td>\n      <td>2.3</td>\n      <td>virginica</td>\n    </tr>\n    <tr>\n      <th>149</th>\n      <td>5.9</td>\n      <td>3.0</td>\n      <td>5.1</td>\n      <td>1.8</td>\n      <td>virginica</td>\n    </tr>\n  </tbody>\n</table>\n<p>150 rows × 5 columns</p>\n</div>"
     },
     "execution_count": 22,
     "metadata": {},
     "output_type": "execute_result"
    }
   ],
   "source": [
    "import pandas as pd\n",
    "import numpy as np\n",
    "import seaborn as sns\n",
    "import matplotlib.pyplot as plt\n",
    "\n",
    "dataset = pd.read_csv('https://raw.githubusercontent.com/akmand/datasets/main/iris.csv')\n",
    "dataset"
   ]
  },
  {
   "cell_type": "code",
   "execution_count": 25,
   "id": "be89b780",
   "metadata": {},
   "outputs": [
    {
     "data": {
      "text/plain": "(150, 5)"
     },
     "execution_count": 25,
     "metadata": {},
     "output_type": "execute_result"
    }
   ],
   "source": [
    "dataset.shape"
   ]
  },
  {
   "cell_type": "code",
   "execution_count": 26,
   "outputs": [
    {
     "data": {
      "text/plain": "   sepal_length_cm  sepal_width_cm  petal_length_cm  petal_width_cm species\n0              5.1             3.5              1.4             0.2  setosa\n1              4.9             3.0              1.4             0.2  setosa\n2              4.7             3.2              1.3             0.2  setosa\n3              4.6             3.1              1.5             0.2  setosa\n4              5.0             3.6              1.4             0.2  setosa",
      "text/html": "<div>\n<style scoped>\n    .dataframe tbody tr th:only-of-type {\n        vertical-align: middle;\n    }\n\n    .dataframe tbody tr th {\n        vertical-align: top;\n    }\n\n    .dataframe thead th {\n        text-align: right;\n    }\n</style>\n<table border=\"1\" class=\"dataframe\">\n  <thead>\n    <tr style=\"text-align: right;\">\n      <th></th>\n      <th>sepal_length_cm</th>\n      <th>sepal_width_cm</th>\n      <th>petal_length_cm</th>\n      <th>petal_width_cm</th>\n      <th>species</th>\n    </tr>\n  </thead>\n  <tbody>\n    <tr>\n      <th>0</th>\n      <td>5.1</td>\n      <td>3.5</td>\n      <td>1.4</td>\n      <td>0.2</td>\n      <td>setosa</td>\n    </tr>\n    <tr>\n      <th>1</th>\n      <td>4.9</td>\n      <td>3.0</td>\n      <td>1.4</td>\n      <td>0.2</td>\n      <td>setosa</td>\n    </tr>\n    <tr>\n      <th>2</th>\n      <td>4.7</td>\n      <td>3.2</td>\n      <td>1.3</td>\n      <td>0.2</td>\n      <td>setosa</td>\n    </tr>\n    <tr>\n      <th>3</th>\n      <td>4.6</td>\n      <td>3.1</td>\n      <td>1.5</td>\n      <td>0.2</td>\n      <td>setosa</td>\n    </tr>\n    <tr>\n      <th>4</th>\n      <td>5.0</td>\n      <td>3.6</td>\n      <td>1.4</td>\n      <td>0.2</td>\n      <td>setosa</td>\n    </tr>\n  </tbody>\n</table>\n</div>"
     },
     "execution_count": 26,
     "metadata": {},
     "output_type": "execute_result"
    }
   ],
   "source": [
    "dataset.head()"
   ],
   "metadata": {
    "collapsed": false
   }
  },
  {
   "cell_type": "code",
   "execution_count": 27,
   "id": "e7f5efa7",
   "metadata": {},
   "outputs": [
    {
     "name": "stdout",
     "output_type": "stream",
     "text": [
      "(120, 4) (30, 4) (120,) (30,)\n"
     ]
    }
   ],
   "source": [
    "from sklearn.model_selection import train_test_split\n",
    "\n",
    "X_train, X_test, y_train, y_test = train_test_split(\n",
    "    dataset.iloc[:, :-1],\n",
    "    dataset.iloc[:, -1],\n",
    "    test_size = 0.20\n",
    ")\n",
    "\n",
    "print(X_train.shape, X_test.shape, y_train.shape, y_test.shape)"
   ]
  },
  {
   "cell_type": "code",
   "execution_count": 28,
   "id": "cbf05aec",
   "metadata": {},
   "outputs": [
    {
     "data": {
      "text/plain": "     sepal_length_cm  sepal_width_cm  petal_length_cm  petal_width_cm\n47               4.6             3.2              1.4             0.2\n129              7.2             3.0              5.8             1.6\n119              6.0             2.2              5.0             1.5\n134              6.1             2.6              5.6             1.4\n63               6.1             2.9              4.7             1.4",
      "text/html": "<div>\n<style scoped>\n    .dataframe tbody tr th:only-of-type {\n        vertical-align: middle;\n    }\n\n    .dataframe tbody tr th {\n        vertical-align: top;\n    }\n\n    .dataframe thead th {\n        text-align: right;\n    }\n</style>\n<table border=\"1\" class=\"dataframe\">\n  <thead>\n    <tr style=\"text-align: right;\">\n      <th></th>\n      <th>sepal_length_cm</th>\n      <th>sepal_width_cm</th>\n      <th>petal_length_cm</th>\n      <th>petal_width_cm</th>\n    </tr>\n  </thead>\n  <tbody>\n    <tr>\n      <th>47</th>\n      <td>4.6</td>\n      <td>3.2</td>\n      <td>1.4</td>\n      <td>0.2</td>\n    </tr>\n    <tr>\n      <th>129</th>\n      <td>7.2</td>\n      <td>3.0</td>\n      <td>5.8</td>\n      <td>1.6</td>\n    </tr>\n    <tr>\n      <th>119</th>\n      <td>6.0</td>\n      <td>2.2</td>\n      <td>5.0</td>\n      <td>1.5</td>\n    </tr>\n    <tr>\n      <th>134</th>\n      <td>6.1</td>\n      <td>2.6</td>\n      <td>5.6</td>\n      <td>1.4</td>\n    </tr>\n    <tr>\n      <th>63</th>\n      <td>6.1</td>\n      <td>2.9</td>\n      <td>4.7</td>\n      <td>1.4</td>\n    </tr>\n  </tbody>\n</table>\n</div>"
     },
     "execution_count": 28,
     "metadata": {},
     "output_type": "execute_result"
    }
   ],
   "source": [
    "X_train.head()"
   ]
  },
  {
   "cell_type": "code",
   "execution_count": 30,
   "id": "5585f7bc",
   "metadata": {},
   "outputs": [
    {
     "data": {
      "text/plain": "47         setosa\n129     virginica\n119     virginica\n134     virginica\n63     versicolor\nName: species, dtype: object"
     },
     "execution_count": 30,
     "metadata": {},
     "output_type": "execute_result"
    }
   ],
   "source": [
    "y_train.head()"
   ]
  },
  {
   "cell_type": "code",
   "execution_count": 31,
   "id": "d9ac5532",
   "metadata": {},
   "outputs": [
    {
     "data": {
      "text/plain": "DecisionTreeClassifier()"
     },
     "execution_count": 31,
     "metadata": {},
     "output_type": "execute_result"
    }
   ],
   "source": [
    "from sklearn.tree import DecisionTreeClassifier\n",
    "classifier = DecisionTreeClassifier()\n",
    "classifier.fit(X_train, y_train)"
   ]
  },
  {
   "cell_type": "code",
   "execution_count": 32,
   "id": "c50bd288",
   "metadata": {},
   "outputs": [
    {
     "data": {
      "text/plain": "[Text(0.4, 0.9285714285714286, 'X[3] <= 0.75\\ngini = 0.665\\nsamples = 120\\nvalue = [44, 38, 38]'),\n Text(0.3, 0.7857142857142857, 'gini = 0.0\\nsamples = 44\\nvalue = [44, 0, 0]'),\n Text(0.5, 0.7857142857142857, 'X[2] <= 4.85\\ngini = 0.5\\nsamples = 76\\nvalue = [0, 38, 38]'),\n Text(0.2, 0.6428571428571429, 'X[3] <= 1.7\\ngini = 0.054\\nsamples = 36\\nvalue = [0, 35, 1]'),\n Text(0.1, 0.5, 'gini = 0.0\\nsamples = 34\\nvalue = [0, 34, 0]'),\n Text(0.3, 0.5, 'X[1] <= 3.0\\ngini = 0.5\\nsamples = 2\\nvalue = [0, 1, 1]'),\n Text(0.2, 0.35714285714285715, 'gini = 0.0\\nsamples = 1\\nvalue = [0, 0, 1]'),\n Text(0.4, 0.35714285714285715, 'gini = 0.0\\nsamples = 1\\nvalue = [0, 1, 0]'),\n Text(0.8, 0.6428571428571429, 'X[3] <= 1.7\\ngini = 0.139\\nsamples = 40\\nvalue = [0, 3, 37]'),\n Text(0.7, 0.5, 'X[2] <= 4.95\\ngini = 0.49\\nsamples = 7\\nvalue = [0, 3, 4]'),\n Text(0.6, 0.35714285714285715, 'gini = 0.0\\nsamples = 2\\nvalue = [0, 2, 0]'),\n Text(0.8, 0.35714285714285715, 'X[0] <= 6.05\\ngini = 0.32\\nsamples = 5\\nvalue = [0, 1, 4]'),\n Text(0.7, 0.21428571428571427, 'X[1] <= 2.45\\ngini = 0.5\\nsamples = 2\\nvalue = [0, 1, 1]'),\n Text(0.6, 0.07142857142857142, 'gini = 0.0\\nsamples = 1\\nvalue = [0, 0, 1]'),\n Text(0.8, 0.07142857142857142, 'gini = 0.0\\nsamples = 1\\nvalue = [0, 1, 0]'),\n Text(0.9, 0.21428571428571427, 'gini = 0.0\\nsamples = 3\\nvalue = [0, 0, 3]'),\n Text(0.9, 0.5, 'gini = 0.0\\nsamples = 33\\nvalue = [0, 0, 33]')]"
     },
     "execution_count": 32,
     "metadata": {},
     "output_type": "execute_result"
    },
    {
     "data": {
      "text/plain": "<Figure size 640x480 with 1 Axes>",
      "image/png": "[encoded data removed]"
     },
     "metadata": {},
     "output_type": "display_data"
    }
   ],
   "source": [
    "from sklearn import tree\n",
    "tree.plot_tree(classifier)"
   ]
  },
  {
   "cell_type": "code",
   "execution_count": 33,
   "id": "236cd093",
   "metadata": {},
   "outputs": [
    {
     "data": {
      "text/plain": "array(['versicolor', 'virginica', 'virginica', 'setosa', 'versicolor',\n       'setosa', 'virginica', 'virginica', 'virginica', 'versicolor',\n       'versicolor', 'versicolor', 'virginica', 'virginica', 'virginica',\n       'setosa', 'setosa', 'virginica', 'versicolor', 'versicolor',\n       'virginica', 'setosa', 'setosa', 'virginica', 'versicolor',\n       'versicolor', 'versicolor', 'versicolor', 'virginica', 'virginica'],\n      dtype=object)"
     },
     "execution_count": 33,
     "metadata": {},
     "output_type": "execute_result"
    }
   ],
   "source": [
    "y_pred = classifier.predict(X_test)\n",
    "y_pred"
   ]
  },
  {
   "cell_type": "code",
   "execution_count": 34,
   "id": "abd1fef1",
   "metadata": {},
   "outputs": [
    {
     "name": "stdout",
     "output_type": "stream",
     "text": [
      "[[ 6  0  0]\n",
      " [ 0 11  1]\n",
      " [ 0  0 12]]\n",
      "              precision    recall  f1-score   support\n",
      "\n",
      "      setosa       1.00      1.00      1.00         6\n",
      "  versicolor       1.00      0.92      0.96        12\n",
      "   virginica       0.92      1.00      0.96        12\n",
      "\n",
      "    accuracy                           0.97        30\n",
      "   macro avg       0.97      0.97      0.97        30\n",
      "weighted avg       0.97      0.97      0.97        30\n",
      "\n"
     ]
    }
   ],
   "source": [
    "from sklearn.metrics import classification_report, confusion_matrix\n",
    "print(confusion_matrix(y_test, y_pred))\n",
    "print(classification_report(y_test, y_pred))"
   ]
  },
  {
   "cell_type": "code",
   "execution_count": 35,
   "id": "f78d8e3b",
   "metadata": {},
   "outputs": [],
   "source": [
    "X = np.array([[-1, -1], [-2, -1], [-3, -2], [1, 1], [2, 1], [3, 2]])\n",
    "target = np.array([0, 0, 0, 1, 1, 1])"
   ]
  },
  {
   "cell_type": "code",
   "execution_count": 36,
   "id": "9d2771dc",
   "metadata": {},
   "outputs": [
    {
     "data": {
      "text/plain": "((3, 2), (3, 2), (3,), (3,))"
     },
     "execution_count": 36,
     "metadata": {},
     "output_type": "execute_result"
    }
   ],
   "source": [
    "from sklearn.model_selection import train_test_split\n",
    "\n",
    "X_train, X_test, y_train, y_test = train_test_split(X, target, test_size=0.4)\n",
    "X_train.shape, X_test.shape, y_train.shape, y_test.shape"
   ]
  },
  {
   "cell_type": "code",
   "execution_count": 37,
   "id": "d9f7c93b",
   "metadata": {},
   "outputs": [
    {
     "data": {
      "text/plain": "DecisionTreeClassifier()"
     },
     "execution_count": 37,
     "metadata": {},
     "output_type": "execute_result"
    }
   ],
   "source": [
    "from sklearn.tree import DecisionTreeClassifier\n",
    "from sklearn import tree\n",
    "\n",
    "classifier = DecisionTreeClassifier()\n",
    "classifier.fit(X_train, y_train)"
   ]
  },
  {
   "cell_type": "code",
   "execution_count": 38,
   "id": "b1cef8af",
   "metadata": {},
   "outputs": [
    {
     "data": {
      "text/plain": "[Text(0.5, 0.75, 'X[0] <= 0.0\\ngini = 0.444\\nsamples = 3\\nvalue = [1, 2]'),\n Text(0.25, 0.25, 'gini = 0.0\\nsamples = 1\\nvalue = [1, 0]'),\n Text(0.75, 0.25, 'gini = 0.0\\nsamples = 2\\nvalue = [0, 2]')]"
     },
     "execution_count": 38,
     "metadata": {},
     "output_type": "execute_result"
    },
    {
     "data": {
      "text/plain": "<Figure size 640x480 with 1 Axes>",
      "image/png": "[encoded data removed]"
     },
     "metadata": {},
     "output_type": "display_data"
    }
   ],
   "source": [
    "tree.plot_tree(classifier)"
   ]
  },
  {
   "cell_type": "code",
   "execution_count": 39,
   "id": "cd3bf226",
   "metadata": {},
   "outputs": [
    {
     "data": {
      "text/plain": "array([0, 0, 1])"
     },
     "execution_count": 39,
     "metadata": {},
     "output_type": "execute_result"
    }
   ],
   "source": [
    "y_pred = classifier.predict(X_test)\n",
    "y_pred"
   ]
  },
  {
   "cell_type": "code",
   "execution_count": 40,
   "id": "1bc95d9f",
   "metadata": {},
   "outputs": [
    {
     "name": "stdout",
     "output_type": "stream",
     "text": [
      "[[2 0]\n",
      " [0 1]]\n",
      "              precision    recall  f1-score   support\n",
      "\n",
      "           0       1.00      1.00      1.00         2\n",
      "           1       1.00      1.00      1.00         1\n",
      "\n",
      "    accuracy                           1.00         3\n",
      "   macro avg       1.00      1.00      1.00         3\n",
      "weighted avg       1.00      1.00      1.00         3\n",
      "\n"
     ]
    }
   ],
   "source": [
    "from sklearn.metrics import classification_report, confusion_matrix\n",
    "\n",
    "print(confusion_matrix(y_test, y_pred))\n",
    "print(classification_report(y_test, y_pred))"
   ]
  },
  {
   "cell_type": "markdown",
   "source": [
    "# 1.4.1"
   ],
   "metadata": {
    "collapsed": false
   }
  },
  {
   "cell_type": "code",
   "execution_count": 41,
   "id": "f7b40b52",
   "metadata": {},
   "outputs": [
    {
     "data": {
      "text/plain": "   YearsExperience   Salary\n0              1.1  39343.0\n1              1.3  46205.0\n2              1.5  37731.0\n3              2.0  43525.0\n4              2.2  39891.0",
      "text/html": "<div>\n<style scoped>\n    .dataframe tbody tr th:only-of-type {\n        vertical-align: middle;\n    }\n\n    .dataframe tbody tr th {\n        vertical-align: top;\n    }\n\n    .dataframe thead th {\n        text-align: right;\n    }\n</style>\n<table border=\"1\" class=\"dataframe\">\n  <thead>\n    <tr style=\"text-align: right;\">\n      <th></th>\n      <th>YearsExperience</th>\n      <th>Salary</th>\n    </tr>\n  </thead>\n  <tbody>\n    <tr>\n      <th>0</th>\n      <td>1.1</td>\n      <td>39343.0</td>\n    </tr>\n    <tr>\n      <th>1</th>\n      <td>1.3</td>\n      <td>46205.0</td>\n    </tr>\n    <tr>\n      <th>2</th>\n      <td>1.5</td>\n      <td>37731.0</td>\n    </tr>\n    <tr>\n      <th>3</th>\n      <td>2.0</td>\n      <td>43525.0</td>\n    </tr>\n    <tr>\n      <th>4</th>\n      <td>2.2</td>\n      <td>39891.0</td>\n    </tr>\n  </tbody>\n</table>\n</div>"
     },
     "execution_count": 41,
     "metadata": {},
     "output_type": "execute_result"
    }
   ],
   "source": [
    "import pandas as pd\n",
    "import numpy as np\n",
    "import matplotlib.pyplot as plt\n",
    "\n",
    "url = r'https://raw.githubusercontent.com/AnnaShestova/salary-years-simple-linear-regression/master/Salary_Data.csv'\n",
    "dataset = pd.read_csv(url)\n",
    "dataset.head()"
   ]
  },
  {
   "cell_type": "code",
   "execution_count": 42,
   "id": "f41a9fe7",
   "metadata": {},
   "outputs": [
    {
     "name": "stdout",
     "output_type": "stream",
     "text": [
      "(30, 2)\n"
     ]
    },
    {
     "data": {
      "text/plain": "       YearsExperience         Salary\ncount        30.000000      30.000000\nmean          5.313333   76003.000000\nstd           2.837888   27414.429785\nmin           1.100000   37731.000000\n25%           3.200000   56720.750000\n50%           4.700000   65237.000000\n75%           7.700000  100544.750000\nmax          10.500000  122391.000000",
      "text/html": "<div>\n<style scoped>\n    .dataframe tbody tr th:only-of-type {\n        vertical-align: middle;\n    }\n\n    .dataframe tbody tr th {\n        vertical-align: top;\n    }\n\n    .dataframe thead th {\n        text-align: right;\n    }\n</style>\n<table border=\"1\" class=\"dataframe\">\n  <thead>\n    <tr style=\"text-align: right;\">\n      <th></th>\n      <th>YearsExperience</th>\n      <th>Salary</th>\n    </tr>\n  </thead>\n  <tbody>\n    <tr>\n      <th>count</th>\n      <td>30.000000</td>\n      <td>30.000000</td>\n    </tr>\n    <tr>\n      <th>mean</th>\n      <td>5.313333</td>\n      <td>76003.000000</td>\n    </tr>\n    <tr>\n      <th>std</th>\n      <td>2.837888</td>\n      <td>27414.429785</td>\n    </tr>\n    <tr>\n      <th>min</th>\n      <td>1.100000</td>\n      <td>37731.000000</td>\n    </tr>\n    <tr>\n      <th>25%</th>\n      <td>3.200000</td>\n      <td>56720.750000</td>\n    </tr>\n    <tr>\n      <th>50%</th>\n      <td>4.700000</td>\n      <td>65237.000000</td>\n    </tr>\n    <tr>\n      <th>75%</th>\n      <td>7.700000</td>\n      <td>100544.750000</td>\n    </tr>\n    <tr>\n      <th>max</th>\n      <td>10.500000</td>\n      <td>122391.000000</td>\n    </tr>\n  </tbody>\n</table>\n</div>"
     },
     "execution_count": 42,
     "metadata": {},
     "output_type": "execute_result"
    }
   ],
   "source": [
    "print(dataset.shape)\n",
    "dataset.describe()"
   ]
  },
  {
   "cell_type": "code",
   "execution_count": 43,
   "id": "8aca16dc",
   "metadata": {},
   "outputs": [
    {
     "data": {
      "text/plain": "<Figure size 640x480 with 1 Axes>",
      "image/png": "[encoded data removed]"
     },
     "metadata": {},
     "output_type": "display_data"
    }
   ],
   "source": [
    "plt.scatter(dataset['YearsExperience'], dataset['Salary'], color = 'b', label = 'Заработная плата')\n",
    "plt.xlabel('Опыт(лет)')\n",
    "plt.ylabel('Заработная плата')\n",
    "plt.show()"
   ]
  },
  {
   "cell_type": "code",
   "execution_count": 44,
   "id": "2c5e8f8b",
   "metadata": {},
   "outputs": [
    {
     "name": "stdout",
     "output_type": "stream",
     "text": [
      "[[ 1.1]\n",
      " [ 1.3]\n",
      " [ 1.5]\n",
      " [ 2. ]\n",
      " [ 2.2]\n",
      " [ 2.9]\n",
      " [ 3. ]\n",
      " [ 3.2]\n",
      " [ 3.2]\n",
      " [ 3.7]\n",
      " [ 3.9]\n",
      " [ 4. ]\n",
      " [ 4. ]\n",
      " [ 4.1]\n",
      " [ 4.5]\n",
      " [ 4.9]\n",
      " [ 5.1]\n",
      " [ 5.3]\n",
      " [ 5.9]\n",
      " [ 6. ]\n",
      " [ 6.8]\n",
      " [ 7.1]\n",
      " [ 7.9]\n",
      " [ 8.2]\n",
      " [ 8.7]\n",
      " [ 9. ]\n",
      " [ 9.5]\n",
      " [ 9.6]\n",
      " [10.3]\n",
      " [10.5]]\n",
      "[ 39343.  46205.  37731.  43525.  39891.  56642.  60150.  54445.  64445.\n",
      "  57189.  63218.  55794.  56957.  57081.  61111.  67938.  66029.  83088.\n",
      "  81363.  93940.  91738.  98273. 101302. 113812. 109431. 105582. 116969.\n",
      " 112635. 122391. 121872.]\n"
     ]
    },
    {
     "data": {
      "text/plain": "DecisionTreeRegressor()"
     },
     "execution_count": 44,
     "metadata": {},
     "output_type": "execute_result"
    }
   ],
   "source": [
    "from sklearn.tree import DecisionTreeRegressor\n",
    "X = dataset.iloc[:, :-1].values\n",
    "y = dataset.iloc[:, -1].values\n",
    "\n",
    "print(X)\n",
    "print(y)\n",
    "\n",
    "X_train, X_test, y_train, y_test = train_test_split(X, y, test_size = 0.2, random_state=0)\n",
    "\n",
    "regressor = DecisionTreeRegressor()\n",
    "regressor.fit(X_train, y_train)"
   ]
  },
  {
   "cell_type": "code",
   "execution_count": 45,
   "id": "6a0cd5a8",
   "metadata": {},
   "outputs": [
    {
     "data": {
      "text/plain": "[Text(0.4956896551724138, 0.9375, 'X[0] <= 5.2\\nsquared_error = 614737637.832\\nsamples = 24\\nvalue = 73886.208'),\n Text(0.20689655172413793, 0.8125, 'X[0] <= 2.55\\nsquared_error = 81200345.857\\nsamples = 14\\nvalue = 54976.0'),\n Text(0.06896551724137931, 0.6875, 'X[0] <= 1.2\\nsquared_error = 7820714.0\\nsamples = 4\\nvalue = 42241.0'),\n Text(0.034482758620689655, 0.5625, 'squared_error = 0.0\\nsamples = 1\\nvalue = 39343.0'),\n Text(0.10344827586206896, 0.5625, 'X[0] <= 2.1\\nsquared_error = 6694994.667\\nsamples = 3\\nvalue = 43207.0'),\n Text(0.06896551724137931, 0.4375, 'X[0] <= 1.65\\nsquared_error = 1795600.0\\nsamples = 2\\nvalue = 44865.0'),\n Text(0.034482758620689655, 0.3125, 'squared_error = 0.0\\nsamples = 1\\nvalue = 46205.0'),\n Text(0.10344827586206896, 0.3125, 'squared_error = 0.0\\nsamples = 1\\nvalue = 43525.0'),\n Text(0.13793103448275862, 0.4375, 'squared_error = 0.0\\nsamples = 1\\nvalue = 39891.0'),\n Text(0.3448275862068966, 0.6875, 'X[0] <= 4.7\\nsquared_error = 19731272.6\\nsamples = 10\\nvalue = 60070.0'),\n Text(0.27586206896551724, 0.5625, 'X[0] <= 4.25\\nsquared_error = 9499922.484\\nsamples = 8\\nvalue = 58341.625'),\n Text(0.2413793103448276, 0.4375, 'X[0] <= 3.45\\nsquared_error = 9604901.143\\nsamples = 7\\nvalue = 57946.0'),\n Text(0.1724137931034483, 0.3125, 'X[0] <= 2.95\\nsquared_error = 14313358.25\\nsamples = 4\\nvalue = 58920.5'),\n Text(0.13793103448275862, 0.1875, 'squared_error = 0.0\\nsamples = 1\\nvalue = 56642.0'),\n Text(0.20689655172413793, 0.1875, 'X[0] <= 3.1\\nsquared_error = 16777116.667\\nsamples = 3\\nvalue = 59680.0'),\n Text(0.1724137931034483, 0.0625, 'squared_error = 0.0\\nsamples = 1\\nvalue = 60150.0'),\n Text(0.2413793103448276, 0.0625, 'squared_error = 25000000.0\\nsamples = 2\\nvalue = 59445.0'),\n Text(0.3103448275862069, 0.3125, 'X[0] <= 3.85\\nsquared_error = 372490.889\\nsamples = 3\\nvalue = 56646.667'),\n Text(0.27586206896551724, 0.1875, 'squared_error = 0.0\\nsamples = 1\\nvalue = 57189.0'),\n Text(0.3448275862068966, 0.1875, 'squared_error = 338142.25\\nsamples = 2\\nvalue = 56375.5'),\n Text(0.3103448275862069, 0.4375, 'squared_error = 0.0\\nsamples = 1\\nvalue = 61111.0'),\n Text(0.41379310344827586, 0.5625, 'X[0] <= 5.0\\nsquared_error = 911070.25\\nsamples = 2\\nvalue = 66983.5'),\n Text(0.3793103448275862, 0.4375, 'squared_error = 0.0\\nsamples = 1\\nvalue = 67938.0'),\n Text(0.4482758620689655, 0.4375, 'squared_error = 0.0\\nsamples = 1\\nvalue = 66029.0'),\n Text(0.7844827586206896, 0.8125, 'X[0] <= 8.05\\nsquared_error = 160167356.45\\nsamples = 10\\nvalue = 100360.5'),\n Text(0.6379310344827587, 0.6875, 'X[0] <= 5.95\\nsquared_error = 53566814.556\\nsamples = 6\\nvalue = 91617.333'),\n Text(0.5517241379310345, 0.5625, 'X[0] <= 5.6\\nsquared_error = 743906.25\\nsamples = 2\\nvalue = 82225.5'),\n Text(0.5172413793103449, 0.4375, 'squared_error = 0.0\\nsamples = 1\\nvalue = 83088.0'),\n Text(0.5862068965517241, 0.4375, 'squared_error = 0.0\\nsamples = 1\\nvalue = 81363.0'),\n Text(0.7241379310344828, 0.5625, 'X[0] <= 6.95\\nsquared_error = 13823368.688\\nsamples = 4\\nvalue = 96313.25'),\n Text(0.6551724137931034, 0.4375, 'X[0] <= 6.4\\nsquared_error = 1212201.0\\nsamples = 2\\nvalue = 92839.0'),\n Text(0.6206896551724138, 0.3125, 'squared_error = 0.0\\nsamples = 1\\nvalue = 93940.0'),\n Text(0.6896551724137931, 0.3125, 'squared_error = 0.0\\nsamples = 1\\nvalue = 91738.0'),\n Text(0.7931034482758621, 0.4375, 'X[0] <= 7.5\\nsquared_error = 2293710.25\\nsamples = 2\\nvalue = 99787.5'),\n Text(0.7586206896551724, 0.3125, 'squared_error = 0.0\\nsamples = 1\\nvalue = 98273.0'),\n Text(0.8275862068965517, 0.3125, 'squared_error = 0.0\\nsamples = 1\\nvalue = 101302.0'),\n Text(0.9310344827586207, 0.6875, 'X[0] <= 10.05\\nsquared_error = 33407056.688\\nsamples = 4\\nvalue = 113475.25'),\n Text(0.896551724137931, 0.5625, 'X[0] <= 8.6\\nsquared_error = 13207004.222\\nsamples = 3\\nvalue = 110676.333'),\n Text(0.8620689655172413, 0.4375, 'squared_error = 0.0\\nsamples = 1\\nvalue = 113812.0'),\n Text(0.9310344827586207, 0.4375, 'X[0] <= 9.3\\nsquared_error = 12436202.25\\nsamples = 2\\nvalue = 109108.5'),\n Text(0.896551724137931, 0.3125, 'squared_error = 0.0\\nsamples = 1\\nvalue = 105582.0'),\n Text(0.9655172413793104, 0.3125, 'squared_error = 0.0\\nsamples = 1\\nvalue = 112635.0'),\n Text(0.9655172413793104, 0.5625, 'squared_error = 0.0\\nsamples = 1\\nvalue = 121872.0')]"
     },
     "execution_count": 45,
     "metadata": {},
     "output_type": "execute_result"
    },
    {
     "data": {
      "text/plain": "<Figure size 640x480 with 1 Axes>",
      "image/png": "[encoded data removed]"
     },
     "metadata": {},
     "output_type": "display_data"
    }
   ],
   "source": [
    "from sklearn import tree\n",
    "tree.plot_tree(regressor)"
   ]
  },
  {
   "cell_type": "code",
   "execution_count": 46,
   "id": "0f3f4c30",
   "metadata": {},
   "outputs": [
    {
     "data": {
      "text/plain": "array([ 46205. , 121872. ,  56375.5,  56375.5, 112635. , 105582. ])"
     },
     "execution_count": 46,
     "metadata": {},
     "output_type": "execute_result"
    }
   ],
   "source": [
    "y_pred = regressor.predict(X_test)\n",
    "y_pred"
   ]
  },
  {
   "cell_type": "code",
   "execution_count": 47,
   "id": "ffffcf96",
   "metadata": {},
   "outputs": [
    {
     "data": {
      "text/plain": "     Actual  Predicted\n0   37731.0    46205.0\n1  122391.0   121872.0\n2   57081.0    56375.5\n3   63218.0    56375.5\n4  116969.0   112635.0\n5  109431.0   105582.0",
      "text/html": "<div>\n<style scoped>\n    .dataframe tbody tr th:only-of-type {\n        vertical-align: middle;\n    }\n\n    .dataframe tbody tr th {\n        vertical-align: top;\n    }\n\n    .dataframe thead th {\n        text-align: right;\n    }\n</style>\n<table border=\"1\" class=\"dataframe\">\n  <thead>\n    <tr style=\"text-align: right;\">\n      <th></th>\n      <th>Actual</th>\n      <th>Predicted</th>\n    </tr>\n  </thead>\n  <tbody>\n    <tr>\n      <th>0</th>\n      <td>37731.0</td>\n      <td>46205.0</td>\n    </tr>\n    <tr>\n      <th>1</th>\n      <td>122391.0</td>\n      <td>121872.0</td>\n    </tr>\n    <tr>\n      <th>2</th>\n      <td>57081.0</td>\n      <td>56375.5</td>\n    </tr>\n    <tr>\n      <th>3</th>\n      <td>63218.0</td>\n      <td>56375.5</td>\n    </tr>\n    <tr>\n      <th>4</th>\n      <td>116969.0</td>\n      <td>112635.0</td>\n    </tr>\n    <tr>\n      <th>5</th>\n      <td>109431.0</td>\n      <td>105582.0</td>\n    </tr>\n  </tbody>\n</table>\n</div>"
     },
     "execution_count": 47,
     "metadata": {},
     "output_type": "execute_result"
    }
   ],
   "source": [
    "df=pd.DataFrame({'Actual': y_test, 'Predicted': y_pred})\n",
    "df"
   ]
  },
  {
   "cell_type": "code",
   "execution_count": 48,
   "id": "6f99531b",
   "metadata": {},
   "outputs": [
    {
     "name": "stdout",
     "output_type": "stream",
     "text": [
      "Mean Squared Error: 25498988.416666668\n",
      "Mean Absolute Error: 4120.666666666667\n"
     ]
    }
   ],
   "source": [
    "from sklearn import metrics\n",
    "print('Mean Squared Error:', metrics.mean_squared_error(y_test, y_pred))\n",
    "print('Mean Absolute Error:', metrics.mean_absolute_error(y_test, y_pred))"
   ]
  },
  {
   "cell_type": "code",
   "execution_count": 49,
   "id": "4fa46c3a",
   "metadata": {},
   "outputs": [
    {
     "data": {
      "text/plain": "5.421715809463662"
     },
     "execution_count": 49,
     "metadata": {},
     "output_type": "execute_result"
    }
   ],
   "source": [
    "metrics.mean_absolute_error(y_test, y_pred) / np.average(y) * 100"
   ]
  },
  {
   "cell_type": "code",
   "execution_count": 50,
   "id": "b6ebf64a",
   "metadata": {},
   "outputs": [
    {
     "data": {
      "text/plain": "   Petrol_tax  Average_income  Paved_Highways  Population_Driver_licence(%)  \\\n0         9.0            3571            1976                         0.525   \n1         9.0            4092            1250                         0.572   \n2         9.0            3865            1586                         0.580   \n3         7.5            4870            2351                         0.529   \n4         8.0            4399             431                         0.544   \n\n   Petrol_Consumption  \n0                 541  \n1                 524  \n2                 561  \n3                 414  \n4                 410  ",
      "text/html": "<div>\n<style scoped>\n    .dataframe tbody tr th:only-of-type {\n        vertical-align: middle;\n    }\n\n    .dataframe tbody tr th {\n        vertical-align: top;\n    }\n\n    .dataframe thead th {\n        text-align: right;\n    }\n</style>\n<table border=\"1\" class=\"dataframe\">\n  <thead>\n    <tr style=\"text-align: right;\">\n      <th></th>\n      <th>Petrol_tax</th>\n      <th>Average_income</th>\n      <th>Paved_Highways</th>\n      <th>Population_Driver_licence(%)</th>\n      <th>Petrol_Consumption</th>\n    </tr>\n  </thead>\n  <tbody>\n    <tr>\n      <th>0</th>\n      <td>9.0</td>\n      <td>3571</td>\n      <td>1976</td>\n      <td>0.525</td>\n      <td>541</td>\n    </tr>\n    <tr>\n      <th>1</th>\n      <td>9.0</td>\n      <td>4092</td>\n      <td>1250</td>\n      <td>0.572</td>\n      <td>524</td>\n    </tr>\n    <tr>\n      <th>2</th>\n      <td>9.0</td>\n      <td>3865</td>\n      <td>1586</td>\n      <td>0.580</td>\n      <td>561</td>\n    </tr>\n    <tr>\n      <th>3</th>\n      <td>7.5</td>\n      <td>4870</td>\n      <td>2351</td>\n      <td>0.529</td>\n      <td>414</td>\n    </tr>\n    <tr>\n      <th>4</th>\n      <td>8.0</td>\n      <td>4399</td>\n      <td>431</td>\n      <td>0.544</td>\n      <td>410</td>\n    </tr>\n  </tbody>\n</table>\n</div>"
     },
     "execution_count": 50,
     "metadata": {},
     "output_type": "execute_result"
    }
   ],
   "source": [
    "import pandas as pd\n",
    "import numpy as np\n",
    "import matplotlib.pyplot as plt\n",
    "\n",
    "dataset = pd.read_csv('https://raw.githubusercontent.com/likarajo/petrol_consumption/master/data/petrol_consumption.csv')\n",
    "dataset.head()"
   ]
  },
  {
   "cell_type": "code",
   "execution_count": 51,
   "id": "c02c9110",
   "metadata": {},
   "outputs": [
    {
     "name": "stdout",
     "output_type": "stream",
     "text": [
      "(48, 5)\n",
      "Index(['Petrol_tax', 'Average_income', 'Paved_Highways',\n",
      "       'Population_Driver_licence(%)', 'Petrol_Consumption'],\n",
      "      dtype='object')\n"
     ]
    }
   ],
   "source": [
    "print(dataset.shape)\n",
    "print(dataset.columns)"
   ]
  },
  {
   "cell_type": "code",
   "execution_count": 52,
   "id": "93836086",
   "metadata": {},
   "outputs": [
    {
     "data": {
      "text/plain": "<Figure size 640x480 with 1 Axes>",
      "image/png": "[encoded data removed]"
     },
     "metadata": {},
     "output_type": "display_data"
    }
   ],
   "source": [
    "plt.scatter(dataset['Average_income'], dataset['Petrol_Consumption'], c='magenta')\n",
    "plt.ylabel(\"Потрбление бензина\")\n",
    "plt.xlabel(\"Средний доход\")\n",
    "plt.show()"
   ]
  },
  {
   "cell_type": "code",
   "execution_count": 53,
   "id": "2a58a168",
   "metadata": {},
   "outputs": [
    {
     "name": "stdout",
     "output_type": "stream",
     "text": [
      "[3571 4092 3865 4870 4399 5342 5319 5126 4447 4512 4391 5126 4817 4207\n",
      " 4332 4318 4206 3718 4716 4341 4593 4983 4897 4258 4574 3721 3448 3846\n",
      " 4188 3601 3640 3333 3063 3357 3528 3802 4045 3897 3635 4345 4449 3656\n",
      " 4300 3745 5215 4476 4296 5002]\n",
      "[541 524 561 414 410 457 344 467 464 498 580 471 525 508 566 635 603 714\n",
      " 865 640 649 540 464 547 460 566 577 631 574 534 571 554 577 628 487 644\n",
      " 640 704 648 968 587 699 632 591 782 510 610 524]\n"
     ]
    }
   ],
   "source": [
    "X = dataset['Average_income'].values\n",
    "y = dataset['Petrol_Consumption'].values\n",
    "print(X)\n",
    "print(y)"
   ]
  },
  {
   "cell_type": "code",
   "execution_count": 54,
   "id": "02d5d472",
   "metadata": {},
   "outputs": [
    {
     "data": {
      "text/plain": "((38, 1), (10, 1), (38,), (10,))"
     },
     "execution_count": 54,
     "metadata": {},
     "output_type": "execute_result"
    }
   ],
   "source": [
    "from sklearn.tree import DecisionTreeRegressor\n",
    "\n",
    "X_train, X_test, y_train, y_test = train_test_split(\n",
    "    X.reshape(-1, 1),\n",
    "    y,\n",
    "    test_size=0.2,\n",
    "    random_state=0\n",
    ")\n",
    "X_train.shape, X_test.shape, y_train.shape, y_test.shape"
   ]
  },
  {
   "cell_type": "code",
   "execution_count": 55,
   "id": "bf51bfc3",
   "metadata": {},
   "outputs": [
    {
     "data": {
      "text/plain": "DecisionTreeRegressor()"
     },
     "execution_count": 55,
     "metadata": {},
     "output_type": "execute_result"
    }
   ],
   "source": [
    "regressor = DecisionTreeRegressor()\n",
    "regressor.fit(X_train, y_train)"
   ]
  },
  {
   "cell_type": "code",
   "execution_count": 56,
   "id": "11fa9b5e",
   "metadata": {
    "scrolled": false
   },
   "outputs": [
    {
     "data": {
      "text/plain": "[Text(0.7436224489795918, 0.9545454545454546, 'X[0] <= 4766.5\\nsquared_error = 13692.341\\nsamples = 38\\nvalue = 583.974'),\n Text(0.5688775510204082, 0.8636363636363636, 'X[0] <= 4654.5\\nsquared_error = 11162.49\\nsamples = 29\\nvalue = 609.31'),\n Text(0.548469387755102, 0.7727272727272727, 'X[0] <= 4396.0\\nsquared_error = 9142.861\\nsamples = 28\\nvalue = 600.179'),\n Text(0.3622448979591837, 0.6818181818181818, 'X[0] <= 4343.0\\nsquared_error = 8225.376\\nsamples = 23\\nvalue = 618.435'),\n Text(0.34183673469387754, 0.5909090909090909, 'X[0] <= 3855.5\\nsquared_error = 2792.43\\nsamples = 22\\nvalue = 602.545'),\n Text(0.12755102040816327, 0.5, 'X[0] <= 3603.0\\nsquared_error = 3095.04\\nsamples = 10\\nvalue = 621.6'),\n Text(0.061224489795918366, 0.4090909090909091, 'X[0] <= 3464.0\\nsquared_error = 1468.222\\nsamples = 3\\nvalue = 574.333'),\n Text(0.04081632653061224, 0.3181818181818182, 'X[0] <= 3345.0\\nsquared_error = 1369.0\\nsamples = 2\\nvalue = 591.0'),\n Text(0.02040816326530612, 0.22727272727272727, 'squared_error = 0.0\\nsamples = 1\\nvalue = 554.0'),\n Text(0.061224489795918366, 0.22727272727272727, 'squared_error = 0.0\\nsamples = 1\\nvalue = 628.0'),\n Text(0.08163265306122448, 0.3181818181818182, 'squared_error = 0.0\\nsamples = 1\\nvalue = 541.0'),\n Text(0.19387755102040816, 0.4090909090909091, 'X[0] <= 3719.5\\nsquared_error = 2424.408\\nsamples = 7\\nvalue = 641.857'),\n Text(0.12244897959183673, 0.3181818181818182, 'X[0] <= 3645.5\\nsquared_error = 798.0\\nsamples = 3\\nvalue = 687.0'),\n Text(0.10204081632653061, 0.22727272727272727, 'squared_error = 0.0\\nsamples = 1\\nvalue = 648.0'),\n Text(0.14285714285714285, 0.22727272727272727, 'X[0] <= 3687.0\\nsquared_error = 56.25\\nsamples = 2\\nvalue = 706.5'),\n Text(0.12244897959183673, 0.13636363636363635, 'squared_error = 0.0\\nsamples = 1\\nvalue = 699.0'),\n Text(0.16326530612244897, 0.13636363636363635, 'squared_error = 0.0\\nsamples = 1\\nvalue = 714.0'),\n Text(0.2653061224489796, 0.3181818181818182, 'X[0] <= 3773.5\\nsquared_error = 969.5\\nsamples = 4\\nvalue = 608.0'),\n Text(0.22448979591836735, 0.22727272727272727, 'X[0] <= 3733.0\\nsquared_error = 156.25\\nsamples = 2\\nvalue = 578.5'),\n Text(0.20408163265306123, 0.13636363636363635, 'squared_error = 0.0\\nsamples = 1\\nvalue = 566.0'),\n Text(0.24489795918367346, 0.13636363636363635, 'squared_error = 0.0\\nsamples = 1\\nvalue = 591.0'),\n Text(0.30612244897959184, 0.22727272727272727, 'X[0] <= 3824.0\\nsquared_error = 42.25\\nsamples = 2\\nvalue = 637.5'),\n Text(0.2857142857142857, 0.13636363636363635, 'squared_error = 0.0\\nsamples = 1\\nvalue = 644.0'),\n Text(0.32653061224489793, 0.13636363636363635, 'squared_error = 0.0\\nsamples = 1\\nvalue = 631.0'),\n Text(0.5561224489795918, 0.5, 'X[0] <= 4277.0\\nsquared_error = 1985.556\\nsamples = 12\\nvalue = 586.667'),\n Text(0.47959183673469385, 0.4090909090909091, 'X[0] <= 4206.5\\nsquared_error = 1774.204\\nsamples = 7\\nvalue = 565.286'),\n Text(0.42857142857142855, 0.3181818181818182, 'X[0] <= 4068.5\\nsquared_error = 1532.24\\nsamples = 5\\nvalue = 580.4'),\n Text(0.3877551020408163, 0.22727272727272727, 'X[0] <= 3955.0\\nsquared_error = 1560.25\\nsamples = 2\\nvalue = 600.5'),\n Text(0.3673469387755102, 0.13636363636363635, 'squared_error = 0.0\\nsamples = 1\\nvalue = 561.0'),\n Text(0.40816326530612246, 0.13636363636363635, 'squared_error = 0.0\\nsamples = 1\\nvalue = 640.0'),\n Text(0.46938775510204084, 0.22727272727272727, 'X[0] <= 4140.0\\nsquared_error = 1064.667\\nsamples = 3\\nvalue = 567.0'),\n Text(0.4489795918367347, 0.13636363636363635, 'squared_error = 0.0\\nsamples = 1\\nvalue = 524.0'),\n Text(0.4897959183673469, 0.13636363636363635, 'X[0] <= 4197.0\\nsquared_error = 210.25\\nsamples = 2\\nvalue = 588.5'),\n Text(0.46938775510204084, 0.045454545454545456, 'squared_error = 0.0\\nsamples = 1\\nvalue = 574.0'),\n Text(0.5102040816326531, 0.045454545454545456, 'squared_error = 0.0\\nsamples = 1\\nvalue = 603.0'),\n Text(0.5306122448979592, 0.3181818181818182, 'X[0] <= 4232.5\\nsquared_error = 380.25\\nsamples = 2\\nvalue = 527.5'),\n Text(0.5102040816326531, 0.22727272727272727, 'squared_error = 0.0\\nsamples = 1\\nvalue = 508.0'),\n Text(0.5510204081632653, 0.22727272727272727, 'squared_error = 0.0\\nsamples = 1\\nvalue = 547.0'),\n Text(0.6326530612244898, 0.4090909090909091, 'X[0] <= 4336.5\\nsquared_error = 745.44\\nsamples = 5\\nvalue = 616.6'),\n Text(0.6122448979591837, 0.3181818181818182, 'X[0] <= 4325.0\\nsquared_error = 760.688\\nsamples = 4\\nvalue = 610.75'),\n Text(0.5918367346938775, 0.22727272727272727, 'X[0] <= 4298.0\\nsquared_error = 124.222\\nsamples = 3\\nvalue = 625.667'),\n Text(0.5714285714285714, 0.13636363636363635, 'squared_error = 0.0\\nsamples = 1\\nvalue = 610.0'),\n Text(0.6122448979591837, 0.13636363636363635, 'X[0] <= 4309.0\\nsquared_error = 2.25\\nsamples = 2\\nvalue = 633.5'),\n Text(0.5918367346938775, 0.045454545454545456, 'squared_error = 0.0\\nsamples = 1\\nvalue = 632.0'),\n Text(0.6326530612244898, 0.045454545454545456, 'squared_error = 0.0\\nsamples = 1\\nvalue = 635.0'),\n Text(0.6326530612244898, 0.22727272727272727, 'squared_error = 0.0\\nsamples = 1\\nvalue = 566.0'),\n Text(0.6530612244897959, 0.3181818181818182, 'squared_error = 0.0\\nsamples = 1\\nvalue = 640.0'),\n Text(0.3826530612244898, 0.5909090909090909, 'squared_error = 0.0\\nsamples = 1\\nvalue = 968.0'),\n Text(0.7346938775510204, 0.6818181818181818, 'X[0] <= 4583.5\\nsquared_error = 4777.76\\nsamples = 5\\nvalue = 516.2'),\n Text(0.7142857142857143, 0.5909090909090909, 'X[0] <= 4543.0\\nsquared_error = 461.0\\nsamples = 4\\nvalue = 483.0'),\n Text(0.6938775510204082, 0.5, 'X[0] <= 4461.5\\nsquared_error = 379.556\\nsamples = 3\\nvalue = 490.667'),\n Text(0.673469387755102, 0.4090909090909091, 'squared_error = 0.0\\nsamples = 1\\nvalue = 464.0'),\n Text(0.7142857142857143, 0.4090909090909091, 'X[0] <= 4494.0\\nsquared_error = 36.0\\nsamples = 2\\nvalue = 504.0'),\n Text(0.6938775510204082, 0.3181818181818182, 'squared_error = 0.0\\nsamples = 1\\nvalue = 510.0'),\n Text(0.7346938775510204, 0.3181818181818182, 'squared_error = 0.0\\nsamples = 1\\nvalue = 498.0'),\n Text(0.7346938775510204, 0.5, 'squared_error = 0.0\\nsamples = 1\\nvalue = 460.0'),\n Text(0.7551020408163265, 0.5909090909090909, 'squared_error = 0.0\\nsamples = 1\\nvalue = 649.0'),\n Text(0.5892857142857143, 0.7727272727272727, 'squared_error = 0.0\\nsamples = 1\\nvalue = 865.0'),\n Text(0.9183673469387755, 0.8636363636363636, 'X[0] <= 5267.0\\nsquared_error = 13110.444\\nsamples = 9\\nvalue = 502.333'),\n Text(0.8775510204081632, 0.7727272727272727, 'X[0] <= 5170.5\\nsquared_error = 12134.816\\nsamples = 7\\nvalue = 531.429'),\n Text(0.8571428571428571, 0.6818181818181818, 'X[0] <= 4940.0\\nsquared_error = 1948.889\\nsamples = 6\\nvalue = 489.667'),\n Text(0.7959183673469388, 0.5909090909090909, 'X[0] <= 4843.5\\nsquared_error = 2060.222\\nsamples = 3\\nvalue = 467.667'),\n Text(0.7755102040816326, 0.5, 'squared_error = 0.0\\nsamples = 1\\nvalue = 525.0'),\n Text(0.8163265306122449, 0.5, 'X[0] <= 4883.5\\nsquared_error = 625.0\\nsamples = 2\\nvalue = 439.0'),\n Text(0.7959183673469388, 0.4090909090909091, 'squared_error = 0.0\\nsamples = 1\\nvalue = 414.0'),\n Text(0.8367346938775511, 0.4090909090909091, 'squared_error = 0.0\\nsamples = 1\\nvalue = 464.0'),\n Text(0.9183673469387755, 0.5909090909090909, 'X[0] <= 5064.0\\nsquared_error = 869.556\\nsamples = 3\\nvalue = 511.667'),\n Text(0.8979591836734694, 0.5, 'X[0] <= 4992.5\\nsquared_error = 64.0\\nsamples = 2\\nvalue = 532.0'),\n Text(0.8775510204081632, 0.4090909090909091, 'squared_error = 0.0\\nsamples = 1\\nvalue = 540.0'),\n Text(0.9183673469387755, 0.4090909090909091, 'squared_error = 0.0\\nsamples = 1\\nvalue = 524.0'),\n Text(0.9387755102040817, 0.5, 'squared_error = 0.0\\nsamples = 1\\nvalue = 471.0'),\n Text(0.8979591836734694, 0.6818181818181818, 'squared_error = 0.0\\nsamples = 1\\nvalue = 782.0'),\n Text(0.9591836734693877, 0.7727272727272727, 'X[0] <= 5330.5\\nsquared_error = 3192.25\\nsamples = 2\\nvalue = 400.5'),\n Text(0.9387755102040817, 0.6818181818181818, 'squared_error = 0.0\\nsamples = 1\\nvalue = 344.0'),\n Text(0.9795918367346939, 0.6818181818181818, 'squared_error = 0.0\\nsamples = 1\\nvalue = 457.0')]"
     },
     "execution_count": 56,
     "metadata": {},
     "output_type": "execute_result"
    },
    {
     "data": {
      "text/plain": "<Figure size 640x480 with 1 Axes>",
      "image/png": "[encoded data removed]"
     },
     "metadata": {},
     "output_type": "display_data"
    }
   ],
   "source": [
    "tree.plot_tree(regressor)"
   ]
  },
  {
   "cell_type": "code",
   "execution_count": 57,
   "id": "84b6e865",
   "metadata": {},
   "outputs": [
    {
     "name": "stdout",
     "output_type": "stream",
     "text": [
      "[541. 464. 628. 648. 554. 561. 541. 464. 471. 968.]\n"
     ]
    },
    {
     "data": {
      "text/plain": "   Actual  Predicted\n0     534      541.0\n1     410      464.0\n2     577      628.0\n3     571      648.0\n4     577      554.0\n5     704      561.0\n6     487      541.0\n7     587      464.0\n8     467      471.0\n9     580      968.0",
      "text/html": "<div>\n<style scoped>\n    .dataframe tbody tr th:only-of-type {\n        vertical-align: middle;\n    }\n\n    .dataframe tbody tr th {\n        vertical-align: top;\n    }\n\n    .dataframe thead th {\n        text-align: right;\n    }\n</style>\n<table border=\"1\" class=\"dataframe\">\n  <thead>\n    <tr style=\"text-align: right;\">\n      <th></th>\n      <th>Actual</th>\n      <th>Predicted</th>\n    </tr>\n  </thead>\n  <tbody>\n    <tr>\n      <th>0</th>\n      <td>534</td>\n      <td>541.0</td>\n    </tr>\n    <tr>\n      <th>1</th>\n      <td>410</td>\n      <td>464.0</td>\n    </tr>\n    <tr>\n      <th>2</th>\n      <td>577</td>\n      <td>628.0</td>\n    </tr>\n    <tr>\n      <th>3</th>\n      <td>571</td>\n      <td>648.0</td>\n    </tr>\n    <tr>\n      <th>4</th>\n      <td>577</td>\n      <td>554.0</td>\n    </tr>\n    <tr>\n      <th>5</th>\n      <td>704</td>\n      <td>561.0</td>\n    </tr>\n    <tr>\n      <th>6</th>\n      <td>487</td>\n      <td>541.0</td>\n    </tr>\n    <tr>\n      <th>7</th>\n      <td>587</td>\n      <td>464.0</td>\n    </tr>\n    <tr>\n      <th>8</th>\n      <td>467</td>\n      <td>471.0</td>\n    </tr>\n    <tr>\n      <th>9</th>\n      <td>580</td>\n      <td>968.0</td>\n    </tr>\n  </tbody>\n</table>\n</div>"
     },
     "execution_count": 57,
     "metadata": {},
     "output_type": "execute_result"
    }
   ],
   "source": [
    "y_pred = regressor.predict(X_test)\n",
    "df = pd.DataFrame({'Actual': y_test, 'Predicted': y_pred});\n",
    "print(y_pred)\n",
    "df"
   ]
  },
  {
   "cell_type": "code",
   "execution_count": 58,
   "id": "0c438a66",
   "metadata": {},
   "outputs": [
    {
     "name": "stdout",
     "output_type": "stream",
     "text": [
      "Mean Squared Error: 20107.8\n",
      "Mean Absolute Error: 92.4\n",
      "16.020227560050568\n"
     ]
    }
   ],
   "source": [
    "from sklearn import metrics\n",
    "\n",
    "print('Mean Squared Error:', metrics.mean_squared_error(y_test, y_pred))\n",
    "print('Mean Absolute Error:', metrics.mean_absolute_error(y_test, y_pred))\n",
    "print(metrics.mean_absolute_error(y_test, y_pred) / np.average(y) * 100)"
   ]
  }
 ],
 "metadata": {
  "kernelspec": {
   "display_name": "Python 3 (ipykernel)",
   "language": "python",
   "name": "python3"
  },
  "language_info": {
   "codemirror_mode": {
    "name": "ipython",
    "version": 3
   },
   "file_extension": ".py",
   "mimetype": "text/x-python",
   "name": "python",
   "nbconvert_exporter": "python",
   "pygments_lexer": "ipython3",
   "version": "3.9.12"
  }
 },
 "nbformat": 4,
 "nbformat_minor": 5
}
