{
 "cells": [
  {
   "cell_type": "code",
   "execution_count": 46,
   "id": "initial_id",
   "metadata": {
    "collapsed": true,
    "ExecuteTime": {
     "end_time": "2024-02-15T08:24:54.234021400Z",
     "start_time": "2024-02-15T08:24:54.206582700Z"
    }
   },
   "outputs": [
    {
     "name": "stdout",
     "output_type": "stream",
     "text": [
      "120\n"
     ]
    }
   ],
   "source": [
    "def multiply_by_12(x):\n",
    "    y = x + x\n",
    "    z = y + y\n",
    "    return z + z + z\n",
    "print(multiply_by_12(10))"
   ]
  },
  {
   "cell_type": "code",
   "outputs": [
    {
     "name": "stdout",
     "output_type": "stream",
     "text": [
      "160\n"
     ]
    }
   ],
   "source": [
    "def multiply_by_16(x):\n",
    "    y = x + x\n",
    "    z = y + y\n",
    "    i = z + z\n",
    "    return i + i\n",
    "print(multiply_by_16(10))"
   ],
   "metadata": {
    "collapsed": false,
    "ExecuteTime": {
     "end_time": "2024-02-15T08:24:27.640825100Z",
     "start_time": "2024-02-15T08:24:27.611892Z"
    }
   },
   "id": "d6c6cee609261125",
   "execution_count": 43
  },
  {
   "cell_type": "code",
   "outputs": [
    {
     "name": "stdout",
     "output_type": "stream",
     "text": [
      "150\n"
     ]
    }
   ],
   "source": [
    "def multiply_by_15(x):\n",
    "    y = x + x\n",
    "    z = y + y\n",
    "    i = z + z\n",
    "    m = x - i\n",
    "    return i - m\n",
    "print(multiply_by_15(10))"
   ],
   "metadata": {
    "collapsed": false,
    "ExecuteTime": {
     "end_time": "2024-02-15T08:24:15.905848800Z",
     "start_time": "2024-02-15T08:24:15.866301500Z"
    }
   },
   "id": "3acecc82dd242adb",
   "execution_count": 41
  },
  {
   "cell_type": "code",
   "outputs": [
    {
     "name": "stdout",
     "output_type": "stream",
     "text": [
      "96\n",
      "720\n",
      "2813\n",
      "8514\n",
      "729\n",
      "192\n",
      "1316\n",
      "395\n",
      "5130\n",
      "4875\n"
     ]
    }
   ],
   "source": [
    "def naive_mul(x, y):\n",
    "    r = 0\n",
    "    for i in range(0, y):\n",
    "        r = r + x\n",
    "    return r\n",
    "\n",
    "import random\n",
    "\n",
    "for _ in range(10):\n",
    "    x = random.randint(0, 100)\n",
    "    y = random.randint(0, 100)\n",
    "    assert naive_mul(x, y) == x * y"
   ],
   "metadata": {
    "collapsed": false,
    "ExecuteTime": {
     "end_time": "2024-02-15T08:26:49.606252Z",
     "start_time": "2024-02-15T08:26:49.580642700Z"
    }
   },
   "id": "588f1f7004fdb4c2",
   "execution_count": 47
  },
  {
   "cell_type": "code",
   "outputs": [],
   "source": [
    "import random\n",
    "\n",
    "def fast_mul(x, y):\n",
    "    result = 0\n",
    "    while y:\n",
    "        if y & 1:\n",
    "            result += x\n",
    "        x <<= 1\n",
    "        y >>= 1\n",
    "    return result\n",
    "\n",
    "for _ in range(10):\n",
    "    x = random.randint(0, 100)\n",
    "    y = random.randint(0, 100)\n",
    "    assert fast_mul(x, y) == x * y"
   ],
   "metadata": {
    "collapsed": false,
    "ExecuteTime": {
     "end_time": "2024-02-22T06:29:31.124459600Z",
     "start_time": "2024-02-22T06:29:31.076496400Z"
    }
   },
   "id": "1c93b87d94658a1",
   "execution_count": 4
  },
  {
   "cell_type": "code",
   "outputs": [],
   "source": [
    "def fast_pow(x, y):\n",
    "    result = 1\n",
    "    while y:\n",
    "        if y & 1:\n",
    "            result *= x\n",
    "        x *= x\n",
    "        y >>= 1\n",
    "    return result\n",
    "\n",
    "for _ in range(10):\n",
    "    x = random.randint(0, 10)\n",
    "    y = random.randint(0, 10)\n",
    "    assert fast_pow(x, y) == x ** y"
   ],
   "metadata": {
    "collapsed": false,
    "ExecuteTime": {
     "end_time": "2024-02-15T07:51:20.749396900Z",
     "start_time": "2024-02-15T07:51:20.733397900Z"
    }
   },
   "id": "15355995f546a5a3",
   "execution_count": 10
  },
  {
   "cell_type": "code",
   "outputs": [],
   "source": [
    "def mul_bits(x, y, bits):\n",
    "    x &= (2 ** bits - 1)\n",
    "    y &= (2 ** bits - 1)\n",
    "    return x * y\n",
    "\n",
    "def mul16(x, y):\n",
    "    a, b = x >> 8, x & 0xff\n",
    "    c, d = y >> 8, y & 0xff\n",
    "\n",
    "    ac = mul_bits(a, c, 8)\n",
    "    ad = mul_bits(a, d, 8)\n",
    "    bc = mul_bits(b, c, 8)\n",
    "    bd = mul_bits(b, d, 8)\n",
    "\n",
    "    return (ac << 16) + ((ad + bc) << 8) + bd\n",
    "\n",
    "import random\n",
    "\n",
    "for _ in range(1000):\n",
    "    x = random.randint(0, 2**16 - 1)\n",
    "    y = random.randint(0, 2**16 - 1)\n",
    "    assert mul16(x, y) == x * y"
   ],
   "metadata": {
    "collapsed": false,
    "ExecuteTime": {
     "end_time": "2024-02-22T06:57:14.211584400Z",
     "start_time": "2024-02-22T06:57:14.162317Z"
    }
   },
   "id": "6363726e6a413db4",
   "execution_count": 6
  },
  {
   "cell_type": "code",
   "outputs": [],
   "source": [
    "def mul16k(x, y):\n",
    "    x0 = x & 0xff\n",
    "    x1 = x >> 8\n",
    "    y0 = y & 0xff\n",
    "    y1 = y >> 8\n",
    "\n",
    "    ac = x1 * y1\n",
    "    bd = x0 * y0\n",
    "    e = (x0 + x1) * (y0 + y1) - ac - bd\n",
    "\n",
    "    return (ac << 16) + (e << 8) + bd\n",
    "\n",
    "\n",
    "import random\n",
    "\n",
    "for _ in range(1000):\n",
    "    x = random.randint(0, 2**16 - 1)\n",
    "    y = random.randint(0, 2**16 - 1)\n",
    "    assert mul16k(x, y) == x * y\n"
   ],
   "metadata": {
    "collapsed": false,
    "ExecuteTime": {
     "end_time": "2024-02-22T07:09:37.715205200Z",
     "start_time": "2024-02-22T07:09:37.681279900Z"
    }
   },
   "id": "71cc435b4298c1ce",
   "execution_count": 12
  },
  {
   "cell_type": "code",
   "outputs": [
    {
     "name": "stdout",
     "output_type": "stream",
     "text": [
      "def f(x):\n",
      "    y = x\n",
      "    y += y\n",
      "    y += y\n",
      "    y += y\n",
      "    return y\n"
     ]
    },
    {
     "ename": "AssertionError",
     "evalue": "Failed for x=1, y=1",
     "output_type": "error",
     "traceback": [
      "\u001B[1;31m---------------------------------------------------------------------------\u001B[0m",
      "\u001B[1;31mAssertionError\u001B[0m                            Traceback (most recent call last)",
      "Cell \u001B[1;32mIn[18], line 17\u001B[0m\n\u001B[0;32m     15\u001B[0m exec(fast_mul_gen(y), \u001B[38;5;28mglobals\u001B[39m())\n\u001B[0;32m     16\u001B[0m \u001B[38;5;28;01mfor\u001B[39;00m x \u001B[38;5;129;01min\u001B[39;00m \u001B[38;5;28mrange\u001B[39m(\u001B[38;5;241m1\u001B[39m, \u001B[38;5;241m11\u001B[39m):\n\u001B[1;32m---> 17\u001B[0m     \u001B[38;5;28;01massert\u001B[39;00m fast_mul_gen(x) \u001B[38;5;241m==\u001B[39m x \u001B[38;5;241m*\u001B[39m y, \u001B[38;5;124mf\u001B[39m\u001B[38;5;124m\"\u001B[39m\u001B[38;5;124mFailed for x=\u001B[39m\u001B[38;5;132;01m{\u001B[39;00mx\u001B[38;5;132;01m}\u001B[39;00m\u001B[38;5;124m, y=\u001B[39m\u001B[38;5;132;01m{\u001B[39;00my\u001B[38;5;132;01m}\u001B[39;00m\u001B[38;5;124m\"\u001B[39m\n",
      "\u001B[1;31mAssertionError\u001B[0m: Failed for x=1, y=1"
     ]
    }
   ],
   "source": [
    "def fast_mul_gen(y):\n",
    "    assignments = [\"y = x\"]\n",
    "    for i in range(y.bit_length() - 1):\n",
    "        assignments.append(\"y += y\")\n",
    "    function_body = \"\\n    \".join(assignments)\n",
    "    function_text = f\"def f(x):\\n    {function_body}\\n    return y\"\n",
    "    return function_text\n",
    "\n",
    "# Пример использования:\n",
    "y = 12\n",
    "print(fast_mul_gen(y))\n",
    "\n",
    "# Автоматическое тестирование:\n",
    "for y in range(1, 11):\n",
    "    exec(fast_mul_gen(y), globals())\n",
    "    for x in range(1, 11):\n",
    "        assert f(x) == x * y, f\"Failed for x={x}, y={y}\""
   ],
   "metadata": {
    "collapsed": false,
    "ExecuteTime": {
     "end_time": "2024-02-22T07:37:22.976378700Z",
     "start_time": "2024-02-22T07:37:22.946327800Z"
    }
   },
   "id": "9b6bd12d873925da",
   "execution_count": 18
  },
  {
   "cell_type": "code",
   "outputs": [
    {
     "ename": "AssertionError",
     "evalue": "",
     "output_type": "error",
     "traceback": [
      "\u001B[1;31m---------------------------------------------------------------------------\u001B[0m",
      "\u001B[1;31mAssertionError\u001B[0m                            Traceback (most recent call last)",
      "Cell \u001B[1;32mIn[16], line 14\u001B[0m\n\u001B[0;32m      9\u001B[0m     \u001B[38;5;28;01mreturn\u001B[39;00m function_text\n\u001B[0;32m     12\u001B[0m exec(fast_mul_gen_pow(y), \u001B[38;5;28mglobals\u001B[39m())\n\u001B[1;32m---> 14\u001B[0m \u001B[38;5;28;01massert\u001B[39;00m fast_mul_gen_pow(x) \u001B[38;5;241m==\u001B[39m x \u001B[38;5;241m*\u001B[39m\u001B[38;5;241m*\u001B[39m y\n",
      "\u001B[1;31mAssertionError\u001B[0m: "
     ]
    }
   ],
   "source": [
    "def fast_mul_gen_pow(y):\n",
    "    assignments = [f\"y = x\"]\n",
    "\n",
    "    for i in range(1, y):\n",
    "        assignments.append(f\"y *= x\")\n",
    "\n",
    "    function_body = [\"\\n    \" + str(i) for i in assignments]\n",
    "    function_text = f\"def f_pow(x):{''.join(function_body)}\\n    return y\\n\"\n",
    "    return function_text\n",
    "\n",
    "\n",
    "exec(fast_mul_gen_pow(y), globals())\n",
    "\n",
    "assert fast_mul_gen_pow(x) == x ** y"
   ],
   "metadata": {
    "collapsed": false,
    "ExecuteTime": {
     "end_time": "2024-02-22T07:28:19.408458700Z",
     "start_time": "2024-02-22T07:28:19.388991600Z"
    }
   },
   "id": "43259492b677dc7c",
   "execution_count": 16
  }
 ],
 "metadata": {
  "kernelspec": {
   "display_name": "Python 3",
   "language": "python",
   "name": "python3"
  },
  "language_info": {
   "codemirror_mode": {
    "name": "ipython",
    "version": 2
   },
   "file_extension": ".py",
   "mimetype": "text/x-python",
   "name": "python",
   "nbconvert_exporter": "python",
   "pygments_lexer": "ipython2",
   "version": "2.7.6"
  }
 },
 "nbformat": 4,
 "nbformat_minor": 5
}
